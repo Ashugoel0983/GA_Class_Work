{
 "cells": [
  {
   "cell_type": "markdown",
   "metadata": {},
   "source": [
    "# Import all the required libraries "
   ]
  },
  {
   "cell_type": "code",
   "execution_count": 8,
   "metadata": {},
   "outputs": [],
   "source": [
    "import numpy as np\n",
    "import pandas as pd\n",
    "import datetime as dt\n",
    "import matplotlib.pyplot as plt\n",
    "import seaborn as sns\n",
    "#inline statement - displays the graphs in the current notebook\n",
    "% matplotlib inline\n",
    "from sklearn.model_selection import train_test_split, LeaveOneOut, GridSearchCV\n",
    "from sklearn.preprocessing import LabelEncoder, OneHotEncoder, scale, StandardScaler\n",
    "from sklearn.linear_model import LinearRegression, RidgeCV, LassoCV, Ridge, Lasso\n",
    "from sklearn import preprocessing"
   ]
  },
  {
   "cell_type": "markdown",
   "metadata": {},
   "source": [
    "Let us load the modified csv file from the previous notebook **house_prices_cleaned.csv**"
   ]
  },
  {
   "cell_type": "code",
   "execution_count": 9,
   "metadata": {},
   "outputs": [],
   "source": [
    "house_prices_new = pd.read_csv(\"./Data/house_prices_cleaned.csv\")"
   ]
  },
  {
   "cell_type": "code",
   "execution_count": 10,
   "metadata": {},
   "outputs": [
    {
     "data": {
      "text/html": [
       "<div>\n",
       "<style scoped>\n",
       "    .dataframe tbody tr th:only-of-type {\n",
       "        vertical-align: middle;\n",
       "    }\n",
       "\n",
       "    .dataframe tbody tr th {\n",
       "        vertical-align: top;\n",
       "    }\n",
       "\n",
       "    .dataframe thead th {\n",
       "        text-align: right;\n",
       "    }\n",
       "</style>\n",
       "<table border=\"1\" class=\"dataframe\">\n",
       "  <thead>\n",
       "    <tr style=\"text-align: right;\">\n",
       "      <th></th>\n",
       "      <th>Id</th>\n",
       "      <th>MSSubClass</th>\n",
       "      <th>MSZoning</th>\n",
       "      <th>LotFrontage</th>\n",
       "      <th>LotArea</th>\n",
       "      <th>Street</th>\n",
       "      <th>Alley</th>\n",
       "      <th>LotShape</th>\n",
       "      <th>LandContour</th>\n",
       "      <th>Utilities</th>\n",
       "      <th>...</th>\n",
       "      <th>PoolArea</th>\n",
       "      <th>PoolQC</th>\n",
       "      <th>Fence</th>\n",
       "      <th>MiscFeature</th>\n",
       "      <th>MiscVal</th>\n",
       "      <th>MoSold</th>\n",
       "      <th>YrSold</th>\n",
       "      <th>SaleType</th>\n",
       "      <th>SaleCondition</th>\n",
       "      <th>SalePrice</th>\n",
       "    </tr>\n",
       "  </thead>\n",
       "  <tbody>\n",
       "    <tr>\n",
       "      <th>0</th>\n",
       "      <td>1</td>\n",
       "      <td>60</td>\n",
       "      <td>RL</td>\n",
       "      <td>65.0</td>\n",
       "      <td>8450</td>\n",
       "      <td>Pave</td>\n",
       "      <td>No alley access</td>\n",
       "      <td>Reg</td>\n",
       "      <td>Lvl</td>\n",
       "      <td>AllPub</td>\n",
       "      <td>...</td>\n",
       "      <td>0</td>\n",
       "      <td>No Pool</td>\n",
       "      <td>No Fence</td>\n",
       "      <td>None</td>\n",
       "      <td>0</td>\n",
       "      <td>2</td>\n",
       "      <td>2008</td>\n",
       "      <td>WD</td>\n",
       "      <td>Normal</td>\n",
       "      <td>208500</td>\n",
       "    </tr>\n",
       "    <tr>\n",
       "      <th>1</th>\n",
       "      <td>2</td>\n",
       "      <td>20</td>\n",
       "      <td>RL</td>\n",
       "      <td>80.0</td>\n",
       "      <td>9600</td>\n",
       "      <td>Pave</td>\n",
       "      <td>No alley access</td>\n",
       "      <td>Reg</td>\n",
       "      <td>Lvl</td>\n",
       "      <td>AllPub</td>\n",
       "      <td>...</td>\n",
       "      <td>0</td>\n",
       "      <td>No Pool</td>\n",
       "      <td>No Fence</td>\n",
       "      <td>None</td>\n",
       "      <td>0</td>\n",
       "      <td>5</td>\n",
       "      <td>2007</td>\n",
       "      <td>WD</td>\n",
       "      <td>Normal</td>\n",
       "      <td>181500</td>\n",
       "    </tr>\n",
       "    <tr>\n",
       "      <th>2</th>\n",
       "      <td>3</td>\n",
       "      <td>60</td>\n",
       "      <td>RL</td>\n",
       "      <td>68.0</td>\n",
       "      <td>11250</td>\n",
       "      <td>Pave</td>\n",
       "      <td>No alley access</td>\n",
       "      <td>IR1</td>\n",
       "      <td>Lvl</td>\n",
       "      <td>AllPub</td>\n",
       "      <td>...</td>\n",
       "      <td>0</td>\n",
       "      <td>No Pool</td>\n",
       "      <td>No Fence</td>\n",
       "      <td>None</td>\n",
       "      <td>0</td>\n",
       "      <td>9</td>\n",
       "      <td>2008</td>\n",
       "      <td>WD</td>\n",
       "      <td>Normal</td>\n",
       "      <td>223500</td>\n",
       "    </tr>\n",
       "    <tr>\n",
       "      <th>3</th>\n",
       "      <td>4</td>\n",
       "      <td>70</td>\n",
       "      <td>RL</td>\n",
       "      <td>60.0</td>\n",
       "      <td>9550</td>\n",
       "      <td>Pave</td>\n",
       "      <td>No alley access</td>\n",
       "      <td>IR1</td>\n",
       "      <td>Lvl</td>\n",
       "      <td>AllPub</td>\n",
       "      <td>...</td>\n",
       "      <td>0</td>\n",
       "      <td>No Pool</td>\n",
       "      <td>No Fence</td>\n",
       "      <td>None</td>\n",
       "      <td>0</td>\n",
       "      <td>2</td>\n",
       "      <td>2006</td>\n",
       "      <td>WD</td>\n",
       "      <td>Abnorml</td>\n",
       "      <td>140000</td>\n",
       "    </tr>\n",
       "    <tr>\n",
       "      <th>4</th>\n",
       "      <td>5</td>\n",
       "      <td>60</td>\n",
       "      <td>RL</td>\n",
       "      <td>84.0</td>\n",
       "      <td>14260</td>\n",
       "      <td>Pave</td>\n",
       "      <td>No alley access</td>\n",
       "      <td>IR1</td>\n",
       "      <td>Lvl</td>\n",
       "      <td>AllPub</td>\n",
       "      <td>...</td>\n",
       "      <td>0</td>\n",
       "      <td>No Pool</td>\n",
       "      <td>No Fence</td>\n",
       "      <td>None</td>\n",
       "      <td>0</td>\n",
       "      <td>12</td>\n",
       "      <td>2008</td>\n",
       "      <td>WD</td>\n",
       "      <td>Normal</td>\n",
       "      <td>250000</td>\n",
       "    </tr>\n",
       "  </tbody>\n",
       "</table>\n",
       "<p>5 rows × 81 columns</p>\n",
       "</div>"
      ],
      "text/plain": [
       "   Id  MSSubClass MSZoning  LotFrontage  LotArea Street            Alley  \\\n",
       "0   1          60       RL         65.0     8450   Pave  No alley access   \n",
       "1   2          20       RL         80.0     9600   Pave  No alley access   \n",
       "2   3          60       RL         68.0    11250   Pave  No alley access   \n",
       "3   4          70       RL         60.0     9550   Pave  No alley access   \n",
       "4   5          60       RL         84.0    14260   Pave  No alley access   \n",
       "\n",
       "  LotShape LandContour Utilities    ...     PoolArea   PoolQC     Fence  \\\n",
       "0      Reg         Lvl    AllPub    ...            0  No Pool  No Fence   \n",
       "1      Reg         Lvl    AllPub    ...            0  No Pool  No Fence   \n",
       "2      IR1         Lvl    AllPub    ...            0  No Pool  No Fence   \n",
       "3      IR1         Lvl    AllPub    ...            0  No Pool  No Fence   \n",
       "4      IR1         Lvl    AllPub    ...            0  No Pool  No Fence   \n",
       "\n",
       "  MiscFeature MiscVal MoSold YrSold  SaleType  SaleCondition  SalePrice  \n",
       "0        None       0      2   2008        WD         Normal     208500  \n",
       "1        None       0      5   2007        WD         Normal     181500  \n",
       "2        None       0      9   2008        WD         Normal     223500  \n",
       "3        None       0      2   2006        WD        Abnorml     140000  \n",
       "4        None       0     12   2008        WD         Normal     250000  \n",
       "\n",
       "[5 rows x 81 columns]"
      ]
     },
     "execution_count": 10,
     "metadata": {},
     "output_type": "execute_result"
    }
   ],
   "source": [
    "house_prices_new.head()"
   ]
  },
  {
   "cell_type": "markdown",
   "metadata": {},
   "source": [
    "# Data Standardization"
   ]
  },
  {
   "cell_type": "markdown",
   "metadata": {},
   "source": [
    "Standardization is very important when we are comparing measurements that have different units. Standardization should be performed to make sure that all the features are on the same scale so that they can be compared for analyzing results.\n",
    "\n",
    "**Data Standardization:** Standardization (or Z-score normalization) is the process where the features are rescaled so that they’ll have the properties of a standard normal distribution with μ=0 and σ=1, where μ is the mean (average) and σ is the standard deviation from the mean.\n",
    "\n",
    "- Standardization can be done using scale() function or StandardScaler class.\n",
    "- StandardScaler is preferred over sacle() as it implements the Transformer API to compute the mean and standard deviation on a training set so as to be able to later reapply the same transformation on the testing set."
   ]
  },
  {
   "cell_type": "code",
   "execution_count": 11,
   "metadata": {},
   "outputs": [],
   "source": [
    "house_prices_new[['MSSubClass','LotFrontage','LotArea','OverallQual','OverallCond','YearBuilt','YearRemodAdd','MasVnrArea','BsmtFinSF1',\n",
    "     'BsmtFinSF2','BsmtUnfSF','TotalBsmtSF','1stFlrSF','2ndFlrSF','LowQualFinSF','GrLivArea','BsmtFullBath','BsmtHalfBath',\n",
    "     'FullBath','HalfBath','BedroomAbvGr','KitchenAbvGr','TotRmsAbvGrd','Fireplaces','GarageYrBlt','GarageCars','GarageArea',\n",
    "     'WoodDeckSF','OpenPorchSF','EnclosedPorch','3SsnPorch','ScreenPorch','PoolArea','MiscVal','MoSold','YrSold']] = StandardScaler().fit_transform(house_prices_new[['MSSubClass','LotFrontage','LotArea','OverallQual','OverallCond','YearBuilt',\n",
    "                                       'YearRemodAdd','MasVnrArea','BsmtFinSF1','BsmtFinSF2','BsmtUnfSF','TotalBsmtSF',\n",
    "                                       '1stFlrSF','2ndFlrSF','LowQualFinSF','GrLivArea','BsmtFullBath','BsmtHalfBath',\n",
    "                                       'FullBath','HalfBath','BedroomAbvGr','KitchenAbvGr','TotRmsAbvGrd','Fireplaces',\n",
    "                                       'GarageYrBlt','GarageCars','GarageArea','WoodDeckSF','OpenPorchSF','EnclosedPorch',\n",
    "                                       '3SsnPorch','ScreenPorch','PoolArea','MiscVal','MoSold','YrSold']])"
   ]
  },
  {
   "cell_type": "code",
   "execution_count": 12,
   "metadata": {},
   "outputs": [
    {
     "data": {
      "text/plain": [
       "(1460, 81)"
      ]
     },
     "execution_count": 12,
     "metadata": {},
     "output_type": "execute_result"
    }
   ],
   "source": [
    "house_prices_new.shape"
   ]
  },
  {
   "cell_type": "markdown",
   "metadata": {},
   "source": [
    "# Encode the categorical data"
   ]
  },
  {
   "cell_type": "markdown",
   "metadata": {},
   "source": [
    "To perform Regression Analysis all the data should be in numerical form. Since our data frame contains categorical data too, this should be converted into numerical for further analysis. A good way to convert categorical data into numerical is One Hot Encoding. \n",
    "\n",
    "**One Hot Encoding -** One Hot Encoding is a representation of categorical variables as binary vectors. This first requires that the categorical values be mapped to integer values. Then, each integer value is represented as a binary vector that is all zero values except the index of the integer, which is marked with a 1.\n",
    "\n",
    "get_dummies function is used to produce a resultant binary matrix "
   ]
  },
  {
   "cell_type": "code",
   "execution_count": 13,
   "metadata": {},
   "outputs": [],
   "source": [
    "# Used get_dummies to produce binary matrix dummy variables \n",
    "new_house_prices = pd.get_dummies(house_prices_new, columns=['MSZoning','Street','Alley','LotShape','LandContour','Utilities','LotConfig',\n",
    "                                                'LandSlope','Neighborhood','Condition1','Condition2','BldgType','HouseStyle',\n",
    "                                                'RoofStyle','RoofMatl','Exterior1st','Exterior2nd','MasVnrType','ExterQual',\n",
    "                                                'ExterCond','Foundation','BsmtQual','BsmtCond','BsmtExposure','BsmtFinType1',\n",
    "                                                'BsmtFinType2','Heating','HeatingQC','CentralAir','Electrical','KitchenQual',\n",
    "                                                'Functional','FireplaceQu','GarageType','GarageFinish','GarageQual','GarageCond',\n",
    "                                                'PavedDrive','PoolQC', 'Fence', 'MiscFeature','SaleType','SaleCondition'])"
   ]
  },
  {
   "cell_type": "markdown",
   "metadata": {},
   "source": [
    "After One hot encoding the number of variables have increased because dummy variables have been introduced to the resultant matrix"
   ]
  },
  {
   "cell_type": "code",
   "execution_count": 14,
   "metadata": {},
   "outputs": [
    {
     "data": {
      "text/plain": [
       "(1460, 306)"
      ]
     },
     "execution_count": 14,
     "metadata": {},
     "output_type": "execute_result"
    }
   ],
   "source": [
    "new_house_prices.shape"
   ]
  },
  {
   "cell_type": "code",
   "execution_count": 67,
   "metadata": {},
   "outputs": [
    {
     "data": {
      "text/html": [
       "<div>\n",
       "<style scoped>\n",
       "    .dataframe tbody tr th:only-of-type {\n",
       "        vertical-align: middle;\n",
       "    }\n",
       "\n",
       "    .dataframe tbody tr th {\n",
       "        vertical-align: top;\n",
       "    }\n",
       "\n",
       "    .dataframe thead th {\n",
       "        text-align: right;\n",
       "    }\n",
       "</style>\n",
       "<table border=\"1\" class=\"dataframe\">\n",
       "  <thead>\n",
       "    <tr style=\"text-align: right;\">\n",
       "      <th></th>\n",
       "      <th>Id</th>\n",
       "      <th>MSSubClass</th>\n",
       "      <th>LotFrontage</th>\n",
       "      <th>LotArea</th>\n",
       "      <th>OverallQual</th>\n",
       "      <th>OverallCond</th>\n",
       "      <th>YearBuilt</th>\n",
       "      <th>YearRemodAdd</th>\n",
       "      <th>MasVnrArea</th>\n",
       "      <th>BsmtFinSF1</th>\n",
       "      <th>...</th>\n",
       "      <th>SaleType_ConLw</th>\n",
       "      <th>SaleType_New</th>\n",
       "      <th>SaleType_Oth</th>\n",
       "      <th>SaleType_WD</th>\n",
       "      <th>SaleCondition_Abnorml</th>\n",
       "      <th>SaleCondition_AdjLand</th>\n",
       "      <th>SaleCondition_Alloca</th>\n",
       "      <th>SaleCondition_Family</th>\n",
       "      <th>SaleCondition_Normal</th>\n",
       "      <th>SaleCondition_Partial</th>\n",
       "    </tr>\n",
       "  </thead>\n",
       "  <tbody>\n",
       "    <tr>\n",
       "      <th>0</th>\n",
       "      <td>1</td>\n",
       "      <td>0.073375</td>\n",
       "      <td>-0.225902</td>\n",
       "      <td>-0.207142</td>\n",
       "      <td>0.651479</td>\n",
       "      <td>-0.517200</td>\n",
       "      <td>1.050994</td>\n",
       "      <td>0.878668</td>\n",
       "      <td>0.511514</td>\n",
       "      <td>0.575425</td>\n",
       "      <td>...</td>\n",
       "      <td>0</td>\n",
       "      <td>0</td>\n",
       "      <td>0</td>\n",
       "      <td>1</td>\n",
       "      <td>0</td>\n",
       "      <td>0</td>\n",
       "      <td>0</td>\n",
       "      <td>0</td>\n",
       "      <td>1</td>\n",
       "      <td>0</td>\n",
       "    </tr>\n",
       "    <tr>\n",
       "      <th>1</th>\n",
       "      <td>2</td>\n",
       "      <td>-0.872563</td>\n",
       "      <td>0.425052</td>\n",
       "      <td>-0.091886</td>\n",
       "      <td>-0.071836</td>\n",
       "      <td>2.179628</td>\n",
       "      <td>0.156734</td>\n",
       "      <td>-0.429577</td>\n",
       "      <td>-0.573359</td>\n",
       "      <td>1.171992</td>\n",
       "      <td>...</td>\n",
       "      <td>0</td>\n",
       "      <td>0</td>\n",
       "      <td>0</td>\n",
       "      <td>1</td>\n",
       "      <td>0</td>\n",
       "      <td>0</td>\n",
       "      <td>0</td>\n",
       "      <td>0</td>\n",
       "      <td>1</td>\n",
       "      <td>0</td>\n",
       "    </tr>\n",
       "    <tr>\n",
       "      <th>2</th>\n",
       "      <td>3</td>\n",
       "      <td>0.073375</td>\n",
       "      <td>-0.095711</td>\n",
       "      <td>0.073480</td>\n",
       "      <td>0.651479</td>\n",
       "      <td>-0.517200</td>\n",
       "      <td>0.984752</td>\n",
       "      <td>0.830215</td>\n",
       "      <td>0.323322</td>\n",
       "      <td>0.092907</td>\n",
       "      <td>...</td>\n",
       "      <td>0</td>\n",
       "      <td>0</td>\n",
       "      <td>0</td>\n",
       "      <td>1</td>\n",
       "      <td>0</td>\n",
       "      <td>0</td>\n",
       "      <td>0</td>\n",
       "      <td>0</td>\n",
       "      <td>1</td>\n",
       "      <td>0</td>\n",
       "    </tr>\n",
       "    <tr>\n",
       "      <th>3</th>\n",
       "      <td>4</td>\n",
       "      <td>0.309859</td>\n",
       "      <td>-0.442886</td>\n",
       "      <td>-0.096897</td>\n",
       "      <td>0.651479</td>\n",
       "      <td>-0.517200</td>\n",
       "      <td>-1.863632</td>\n",
       "      <td>-0.720298</td>\n",
       "      <td>-0.573359</td>\n",
       "      <td>-0.499274</td>\n",
       "      <td>...</td>\n",
       "      <td>0</td>\n",
       "      <td>0</td>\n",
       "      <td>0</td>\n",
       "      <td>1</td>\n",
       "      <td>1</td>\n",
       "      <td>0</td>\n",
       "      <td>0</td>\n",
       "      <td>0</td>\n",
       "      <td>0</td>\n",
       "      <td>0</td>\n",
       "    </tr>\n",
       "    <tr>\n",
       "      <th>4</th>\n",
       "      <td>5</td>\n",
       "      <td>0.073375</td>\n",
       "      <td>0.598640</td>\n",
       "      <td>0.375148</td>\n",
       "      <td>1.374795</td>\n",
       "      <td>-0.517200</td>\n",
       "      <td>0.951632</td>\n",
       "      <td>0.733308</td>\n",
       "      <td>1.363915</td>\n",
       "      <td>0.463568</td>\n",
       "      <td>...</td>\n",
       "      <td>0</td>\n",
       "      <td>0</td>\n",
       "      <td>0</td>\n",
       "      <td>1</td>\n",
       "      <td>0</td>\n",
       "      <td>0</td>\n",
       "      <td>0</td>\n",
       "      <td>0</td>\n",
       "      <td>1</td>\n",
       "      <td>0</td>\n",
       "    </tr>\n",
       "  </tbody>\n",
       "</table>\n",
       "<p>5 rows × 306 columns</p>\n",
       "</div>"
      ],
      "text/plain": [
       "   Id  MSSubClass  LotFrontage   LotArea  OverallQual  OverallCond  YearBuilt  \\\n",
       "0   1    0.073375    -0.225902 -0.207142     0.651479    -0.517200   1.050994   \n",
       "1   2   -0.872563     0.425052 -0.091886    -0.071836     2.179628   0.156734   \n",
       "2   3    0.073375    -0.095711  0.073480     0.651479    -0.517200   0.984752   \n",
       "3   4    0.309859    -0.442886 -0.096897     0.651479    -0.517200  -1.863632   \n",
       "4   5    0.073375     0.598640  0.375148     1.374795    -0.517200   0.951632   \n",
       "\n",
       "   YearRemodAdd  MasVnrArea  BsmtFinSF1          ...            \\\n",
       "0      0.878668    0.511514    0.575425          ...             \n",
       "1     -0.429577   -0.573359    1.171992          ...             \n",
       "2      0.830215    0.323322    0.092907          ...             \n",
       "3     -0.720298   -0.573359   -0.499274          ...             \n",
       "4      0.733308    1.363915    0.463568          ...             \n",
       "\n",
       "   SaleType_ConLw  SaleType_New  SaleType_Oth  SaleType_WD  \\\n",
       "0               0             0             0            1   \n",
       "1               0             0             0            1   \n",
       "2               0             0             0            1   \n",
       "3               0             0             0            1   \n",
       "4               0             0             0            1   \n",
       "\n",
       "   SaleCondition_Abnorml  SaleCondition_AdjLand  SaleCondition_Alloca  \\\n",
       "0                      0                      0                     0   \n",
       "1                      0                      0                     0   \n",
       "2                      0                      0                     0   \n",
       "3                      1                      0                     0   \n",
       "4                      0                      0                     0   \n",
       "\n",
       "   SaleCondition_Family  SaleCondition_Normal  SaleCondition_Partial  \n",
       "0                     0                     1                      0  \n",
       "1                     0                     1                      0  \n",
       "2                     0                     1                      0  \n",
       "3                     0                     0                      0  \n",
       "4                     0                     1                      0  \n",
       "\n",
       "[5 rows x 306 columns]"
      ]
     },
     "execution_count": 67,
     "metadata": {},
     "output_type": "execute_result"
    }
   ],
   "source": [
    "new_house_prices.head()"
   ]
  },
  {
   "cell_type": "code",
   "execution_count": 15,
   "metadata": {},
   "outputs": [
    {
     "data": {
      "text/plain": [
       "False"
      ]
     },
     "execution_count": 15,
     "metadata": {},
     "output_type": "execute_result"
    }
   ],
   "source": [
    "new_house_prices.isnull().values.any()"
   ]
  },
  {
   "cell_type": "code",
   "execution_count": 16,
   "metadata": {
    "scrolled": true
   },
   "outputs": [
    {
     "data": {
      "text/html": [
       "<div>\n",
       "<style scoped>\n",
       "    .dataframe tbody tr th:only-of-type {\n",
       "        vertical-align: middle;\n",
       "    }\n",
       "\n",
       "    .dataframe tbody tr th {\n",
       "        vertical-align: top;\n",
       "    }\n",
       "\n",
       "    .dataframe thead th {\n",
       "        text-align: right;\n",
       "    }\n",
       "</style>\n",
       "<table border=\"1\" class=\"dataframe\">\n",
       "  <thead>\n",
       "    <tr style=\"text-align: right;\">\n",
       "      <th></th>\n",
       "      <th>Id</th>\n",
       "      <th>MSSubClass</th>\n",
       "      <th>LotFrontage</th>\n",
       "      <th>LotArea</th>\n",
       "      <th>OverallQual</th>\n",
       "      <th>OverallCond</th>\n",
       "      <th>YearBuilt</th>\n",
       "      <th>YearRemodAdd</th>\n",
       "      <th>MasVnrArea</th>\n",
       "      <th>BsmtFinSF1</th>\n",
       "      <th>...</th>\n",
       "      <th>SaleType_ConLw</th>\n",
       "      <th>SaleType_New</th>\n",
       "      <th>SaleType_Oth</th>\n",
       "      <th>SaleType_WD</th>\n",
       "      <th>SaleCondition_Abnorml</th>\n",
       "      <th>SaleCondition_AdjLand</th>\n",
       "      <th>SaleCondition_Alloca</th>\n",
       "      <th>SaleCondition_Family</th>\n",
       "      <th>SaleCondition_Normal</th>\n",
       "      <th>SaleCondition_Partial</th>\n",
       "    </tr>\n",
       "  </thead>\n",
       "  <tbody>\n",
       "    <tr>\n",
       "      <th>0</th>\n",
       "      <td>1</td>\n",
       "      <td>0.073375</td>\n",
       "      <td>-0.225902</td>\n",
       "      <td>-0.207142</td>\n",
       "      <td>0.651479</td>\n",
       "      <td>-0.517200</td>\n",
       "      <td>1.050994</td>\n",
       "      <td>0.878668</td>\n",
       "      <td>0.511514</td>\n",
       "      <td>0.575425</td>\n",
       "      <td>...</td>\n",
       "      <td>0</td>\n",
       "      <td>0</td>\n",
       "      <td>0</td>\n",
       "      <td>1</td>\n",
       "      <td>0</td>\n",
       "      <td>0</td>\n",
       "      <td>0</td>\n",
       "      <td>0</td>\n",
       "      <td>1</td>\n",
       "      <td>0</td>\n",
       "    </tr>\n",
       "    <tr>\n",
       "      <th>1</th>\n",
       "      <td>2</td>\n",
       "      <td>-0.872563</td>\n",
       "      <td>0.425052</td>\n",
       "      <td>-0.091886</td>\n",
       "      <td>-0.071836</td>\n",
       "      <td>2.179628</td>\n",
       "      <td>0.156734</td>\n",
       "      <td>-0.429577</td>\n",
       "      <td>-0.573359</td>\n",
       "      <td>1.171992</td>\n",
       "      <td>...</td>\n",
       "      <td>0</td>\n",
       "      <td>0</td>\n",
       "      <td>0</td>\n",
       "      <td>1</td>\n",
       "      <td>0</td>\n",
       "      <td>0</td>\n",
       "      <td>0</td>\n",
       "      <td>0</td>\n",
       "      <td>1</td>\n",
       "      <td>0</td>\n",
       "    </tr>\n",
       "    <tr>\n",
       "      <th>2</th>\n",
       "      <td>3</td>\n",
       "      <td>0.073375</td>\n",
       "      <td>-0.095711</td>\n",
       "      <td>0.073480</td>\n",
       "      <td>0.651479</td>\n",
       "      <td>-0.517200</td>\n",
       "      <td>0.984752</td>\n",
       "      <td>0.830215</td>\n",
       "      <td>0.323322</td>\n",
       "      <td>0.092907</td>\n",
       "      <td>...</td>\n",
       "      <td>0</td>\n",
       "      <td>0</td>\n",
       "      <td>0</td>\n",
       "      <td>1</td>\n",
       "      <td>0</td>\n",
       "      <td>0</td>\n",
       "      <td>0</td>\n",
       "      <td>0</td>\n",
       "      <td>1</td>\n",
       "      <td>0</td>\n",
       "    </tr>\n",
       "    <tr>\n",
       "      <th>3</th>\n",
       "      <td>4</td>\n",
       "      <td>0.309859</td>\n",
       "      <td>-0.442886</td>\n",
       "      <td>-0.096897</td>\n",
       "      <td>0.651479</td>\n",
       "      <td>-0.517200</td>\n",
       "      <td>-1.863632</td>\n",
       "      <td>-0.720298</td>\n",
       "      <td>-0.573359</td>\n",
       "      <td>-0.499274</td>\n",
       "      <td>...</td>\n",
       "      <td>0</td>\n",
       "      <td>0</td>\n",
       "      <td>0</td>\n",
       "      <td>1</td>\n",
       "      <td>1</td>\n",
       "      <td>0</td>\n",
       "      <td>0</td>\n",
       "      <td>0</td>\n",
       "      <td>0</td>\n",
       "      <td>0</td>\n",
       "    </tr>\n",
       "    <tr>\n",
       "      <th>4</th>\n",
       "      <td>5</td>\n",
       "      <td>0.073375</td>\n",
       "      <td>0.598640</td>\n",
       "      <td>0.375148</td>\n",
       "      <td>1.374795</td>\n",
       "      <td>-0.517200</td>\n",
       "      <td>0.951632</td>\n",
       "      <td>0.733308</td>\n",
       "      <td>1.363915</td>\n",
       "      <td>0.463568</td>\n",
       "      <td>...</td>\n",
       "      <td>0</td>\n",
       "      <td>0</td>\n",
       "      <td>0</td>\n",
       "      <td>1</td>\n",
       "      <td>0</td>\n",
       "      <td>0</td>\n",
       "      <td>0</td>\n",
       "      <td>0</td>\n",
       "      <td>1</td>\n",
       "      <td>0</td>\n",
       "    </tr>\n",
       "  </tbody>\n",
       "</table>\n",
       "<p>5 rows × 306 columns</p>\n",
       "</div>"
      ],
      "text/plain": [
       "   Id  MSSubClass  LotFrontage   LotArea  OverallQual  OverallCond  YearBuilt  \\\n",
       "0   1    0.073375    -0.225902 -0.207142     0.651479    -0.517200   1.050994   \n",
       "1   2   -0.872563     0.425052 -0.091886    -0.071836     2.179628   0.156734   \n",
       "2   3    0.073375    -0.095711  0.073480     0.651479    -0.517200   0.984752   \n",
       "3   4    0.309859    -0.442886 -0.096897     0.651479    -0.517200  -1.863632   \n",
       "4   5    0.073375     0.598640  0.375148     1.374795    -0.517200   0.951632   \n",
       "\n",
       "   YearRemodAdd  MasVnrArea  BsmtFinSF1          ...            \\\n",
       "0      0.878668    0.511514    0.575425          ...             \n",
       "1     -0.429577   -0.573359    1.171992          ...             \n",
       "2      0.830215    0.323322    0.092907          ...             \n",
       "3     -0.720298   -0.573359   -0.499274          ...             \n",
       "4      0.733308    1.363915    0.463568          ...             \n",
       "\n",
       "   SaleType_ConLw  SaleType_New  SaleType_Oth  SaleType_WD  \\\n",
       "0               0             0             0            1   \n",
       "1               0             0             0            1   \n",
       "2               0             0             0            1   \n",
       "3               0             0             0            1   \n",
       "4               0             0             0            1   \n",
       "\n",
       "   SaleCondition_Abnorml  SaleCondition_AdjLand  SaleCondition_Alloca  \\\n",
       "0                      0                      0                     0   \n",
       "1                      0                      0                     0   \n",
       "2                      0                      0                     0   \n",
       "3                      1                      0                     0   \n",
       "4                      0                      0                     0   \n",
       "\n",
       "   SaleCondition_Family  SaleCondition_Normal  SaleCondition_Partial  \n",
       "0                     0                     1                      0  \n",
       "1                     0                     1                      0  \n",
       "2                     0                     1                      0  \n",
       "3                     0                     0                      0  \n",
       "4                     0                     1                      0  \n",
       "\n",
       "[5 rows x 306 columns]"
      ]
     },
     "execution_count": 16,
     "metadata": {},
     "output_type": "execute_result"
    }
   ],
   "source": [
    "new_house_prices.head()"
   ]
  },
  {
   "cell_type": "code",
   "execution_count": 17,
   "metadata": {},
   "outputs": [],
   "source": [
    "# Make csv copy of new_house_prices\n",
    "#new_house_prices.to_csv('E:\\Data Science\\Capstone Project - House prices\\Regularization\\\\final_house_prices.csv', index=False)"
   ]
  },
  {
   "cell_type": "code",
   "execution_count": 18,
   "metadata": {},
   "outputs": [],
   "source": [
    "# Create a new data frame house_prices_new_numerical which contains columns that are of type numerical \n",
    "house_prices_new_numerical = house_prices_new.select_dtypes(include = [np.number])"
   ]
  },
  {
   "cell_type": "markdown",
   "metadata": {},
   "source": [
    "It is worthwhile to check if the number of columns that result from introducing the dummy variables is correct wrt the number of unique values per categorical variables.\n",
    "\n",
    "In the code below I compute the aggregation of the no. of unique values per categorical variable to check that the no. of columns is equals to the no. of columns for non-categorical variables plus the number computed below."
   ]
  },
  {
   "cell_type": "code",
   "execution_count": 19,
   "metadata": {},
   "outputs": [],
   "source": [
    "# No of columns produced only by categorical variables\n",
    "s = 0\n",
    "for col in house_prices_new:\n",
    "    if house_prices_new[col].dtype == 'object':\n",
    "        s  = s + house_prices_new[col].nunique()  \n",
    "\n",
    "# No of numerical columns \n",
    "n = len(house_prices_new_numerical.columns)"
   ]
  },
  {
   "cell_type": "code",
   "execution_count": 20,
   "metadata": {},
   "outputs": [
    {
     "name": "stdout",
     "output_type": "stream",
     "text": [
      "Column numbers match: 306\n"
     ]
    }
   ],
   "source": [
    "# The total number of columns produced after One Hot Encoding will be the sum of 's' and 'n'\n",
    "total_cols = s+n\n",
    "total_cols\n",
    "if len(new_house_prices.columns) == total_cols:\n",
    "    print(\"Column numbers match: %s\" % total_cols)"
   ]
  },
  {
   "cell_type": "markdown",
   "metadata": {},
   "source": [
    "# Split the data into test and train data sets\n",
    "\n",
    "It is extremely important to split the data into train and test sets. Train set is used to train the model and Test set is used to test the performance of the model.\n",
    "\n",
    "Problems encountered if train test split not performed:\n",
    "- It does not make sense to talk about the performance of the model by testing it on same data. The model learns the data pretty well and when tested on same data will produce the best score.\n",
    "- The model becomes very specific to the training data, so far as they even get trained on the ocassional erroneous labels present in the training data. This results in **Overfitting** and the model might not work well outside the training data.\n",
    "\n",
    "Therefore it is advised to keep a certian portion of the data aside (test set) untouched and test our model on this data to evaluate the true performance of the model."
   ]
  },
  {
   "cell_type": "markdown",
   "metadata": {},
   "source": [
    "- X_train - all the predictors\n",
    "- Y_train - target variable (SalePrice)\n",
    "- X_test - all the predictors\n",
    "- Y_test - target variable (SalePrice)\n",
    "\n",
    "Let's define X and Y before splitting the data"
   ]
  },
  {
   "cell_type": "code",
   "execution_count": 21,
   "metadata": {},
   "outputs": [],
   "source": [
    "X = new_house_prices.drop('SalePrice', axis=1)"
   ]
  },
  {
   "cell_type": "code",
   "execution_count": 22,
   "metadata": {},
   "outputs": [
    {
     "name": "stdout",
     "output_type": "stream",
     "text": [
      "(1022, 305)\n",
      "(438, 305)\n",
      "(1022,)\n",
      "(438,)\n"
     ]
    }
   ],
   "source": [
    "X_train, X_test, Y_train, Y_test  = train_test_split(X, new_house_prices.SalePrice, test_size=0.3, random_state=10)\n",
    "print(X_train.shape)\n",
    "print(X_test.shape)\n",
    "print(Y_train.shape)\n",
    "print(Y_test.shape)"
   ]
  },
  {
   "cell_type": "markdown",
   "metadata": {},
   "source": [
    "# Regression Analysis\n",
    "\n",
    "Let us perform Multiple Linear Regression to analyze the relationship between independent and target variables. \n",
    "\n",
    "**Multiple linear regression -** It is a predictive analysis tool which is used to explain the relationship between one continuous dependent variable and two or more continuous/ categorical independent variables.  "
   ]
  },
  {
   "cell_type": "markdown",
   "metadata": {},
   "source": [
    "** Multiple Linear Regression**"
   ]
  },
  {
   "cell_type": "code",
   "execution_count": 23,
   "metadata": {},
   "outputs": [
    {
     "data": {
      "text/plain": [
       "LinearRegression(copy_X=True, fit_intercept=True, n_jobs=1, normalize=False)"
      ]
     },
     "execution_count": 23,
     "metadata": {},
     "output_type": "execute_result"
    }
   ],
   "source": [
    "# Create an object lm for the LinearRegression model\n",
    "lm = LinearRegression()\n",
    "# Fit the model on the training data\n",
    "lm.fit(X_train, Y_train)"
   ]
  },
  {
   "cell_type": "markdown",
   "metadata": {},
   "source": [
    "This is very uselful table which gives out $R^2$, adjusted $R^2$, coefficients of all the numerical variables along with p-values, standard errors, t-statistic and confidence interval for 2 standard deviations. Let us concentrate on coefficients, some are negative and others are positive. The positive correlation signifies a stronger correlation of the feature with the predictor."
   ]
  },
  {
   "cell_type": "code",
   "execution_count": 24,
   "metadata": {},
   "outputs": [
    {
     "data": {
      "text/html": [
       "<table class=\"simpletable\">\n",
       "<caption>OLS Regression Results</caption>\n",
       "<tr>\n",
       "  <th>Dep. Variable:</th>        <td>SalePrice</td>    <th>  R-squared:         </th> <td>   0.131</td> \n",
       "</tr>\n",
       "<tr>\n",
       "  <th>Model:</th>                   <td>OLS</td>       <th>  Adj. R-squared:    </th> <td>   0.111</td> \n",
       "</tr>\n",
       "<tr>\n",
       "  <th>Method:</th>             <td>Least Squares</td>  <th>  F-statistic:       </th> <td>   6.343</td> \n",
       "</tr>\n",
       "<tr>\n",
       "  <th>Date:</th>             <td>Sat, 20 Oct 2018</td> <th>  Prob (F-statistic):</th> <td>5.86e-26</td> \n",
       "</tr>\n",
       "<tr>\n",
       "  <th>Time:</th>                 <td>11:40:07</td>     <th>  Log-Likelihood:    </th> <td> -19772.</td> \n",
       "</tr>\n",
       "<tr>\n",
       "  <th>No. Observations:</th>      <td>  1460</td>      <th>  AIC:               </th> <td>3.961e+04</td>\n",
       "</tr>\n",
       "<tr>\n",
       "  <th>Df Residuals:</th>          <td>  1426</td>      <th>  BIC:               </th> <td>3.979e+04</td>\n",
       "</tr>\n",
       "<tr>\n",
       "  <th>Df Model:</th>              <td>    34</td>      <th>                     </th>     <td> </td>    \n",
       "</tr>\n",
       "<tr>\n",
       "  <th>Covariance Type:</th>      <td>nonrobust</td>    <th>                     </th>     <td> </td>    \n",
       "</tr>\n",
       "</table>\n",
       "<table class=\"simpletable\">\n",
       "<tr>\n",
       "        <td></td>           <th>coef</th>     <th>std err</th>      <th>t</th>      <th>P>|t|</th>  <th>[0.025</th>    <th>0.975]</th>  \n",
       "</tr>\n",
       "<tr>\n",
       "  <th>MSSubClass</th>    <td>-7751.6575</td> <td> 6255.474</td> <td>   -1.239</td> <td> 0.215</td> <td>   -2e+04</td> <td> 4519.262</td>\n",
       "</tr>\n",
       "<tr>\n",
       "  <th>LotFrontage</th>   <td>-1534.7682</td> <td> 5948.077</td> <td>   -0.258</td> <td> 0.796</td> <td>-1.32e+04</td> <td> 1.01e+04</td>\n",
       "</tr>\n",
       "<tr>\n",
       "  <th>LotArea</th>       <td> 4309.4956</td> <td> 5442.596</td> <td>    0.792</td> <td> 0.429</td> <td>-6366.859</td> <td>  1.5e+04</td>\n",
       "</tr>\n",
       "<tr>\n",
       "  <th>OverallQual</th>   <td> 2.404e+04</td> <td> 8801.436</td> <td>    2.732</td> <td> 0.006</td> <td> 6776.092</td> <td> 4.13e+04</td>\n",
       "</tr>\n",
       "<tr>\n",
       "  <th>OverallCond</th>   <td> 5186.2497</td> <td> 6161.811</td> <td>    0.842</td> <td> 0.400</td> <td>-6900.937</td> <td> 1.73e+04</td>\n",
       "</tr>\n",
       "<tr>\n",
       "  <th>YearBuilt</th>     <td> 8378.9476</td> <td> 1.08e+04</td> <td>    0.775</td> <td> 0.438</td> <td>-1.28e+04</td> <td> 2.96e+04</td>\n",
       "</tr>\n",
       "<tr>\n",
       "  <th>YearRemodAdd</th>  <td> 2823.7228</td> <td> 7593.014</td> <td>    0.372</td> <td> 0.710</td> <td>-1.21e+04</td> <td> 1.77e+04</td>\n",
       "</tr>\n",
       "<tr>\n",
       "  <th>MasVnrArea</th>    <td> 5626.2114</td> <td> 5755.739</td> <td>    0.977</td> <td> 0.328</td> <td>-5664.412</td> <td> 1.69e+04</td>\n",
       "</tr>\n",
       "<tr>\n",
       "  <th>BsmtFinSF1</th>    <td> 4328.7757</td> <td> 5429.140</td> <td>    0.797</td> <td> 0.425</td> <td>-6321.182</td> <td>  1.5e+04</td>\n",
       "</tr>\n",
       "<tr>\n",
       "  <th>BsmtFinSF2</th>    <td> -228.5180</td> <td> 4970.623</td> <td>   -0.046</td> <td> 0.963</td> <td>-9979.036</td> <td> 9522.000</td>\n",
       "</tr>\n",
       "<tr>\n",
       "  <th>BsmtUnfSF</th>     <td> -199.8616</td> <td> 4702.380</td> <td>   -0.043</td> <td> 0.966</td> <td>-9424.185</td> <td> 9024.462</td>\n",
       "</tr>\n",
       "<tr>\n",
       "  <th>TotalBsmtSF</th>   <td> 4215.0611</td> <td> 6698.308</td> <td>    0.629</td> <td> 0.529</td> <td>-8924.534</td> <td> 1.74e+04</td>\n",
       "</tr>\n",
       "<tr>\n",
       "  <th>1stFlrSF</th>      <td> 8564.0716</td> <td> 7957.913</td> <td>    1.076</td> <td> 0.282</td> <td>-7046.401</td> <td> 2.42e+04</td>\n",
       "</tr>\n",
       "<tr>\n",
       "  <th>2ndFlrSF</th>      <td> 9559.1067</td> <td> 6935.754</td> <td>    1.378</td> <td> 0.168</td> <td>-4046.270</td> <td> 2.32e+04</td>\n",
       "</tr>\n",
       "<tr>\n",
       "  <th>LowQualFinSF</th>  <td>   -7.3055</td> <td> 5164.098</td> <td>   -0.001</td> <td> 0.999</td> <td>-1.01e+04</td> <td> 1.01e+04</td>\n",
       "</tr>\n",
       "<tr>\n",
       "  <th>GrLivArea</th>     <td> 1.424e+04</td> <td> 7239.642</td> <td>    1.967</td> <td> 0.049</td> <td>   39.253</td> <td> 2.84e+04</td>\n",
       "</tr>\n",
       "<tr>\n",
       "  <th>BsmtFullBath</th>  <td> 4793.3480</td> <td> 7264.324</td> <td>    0.660</td> <td> 0.509</td> <td>-9456.561</td> <td>  1.9e+04</td>\n",
       "</tr>\n",
       "<tr>\n",
       "  <th>BsmtHalfBath</th>  <td>  457.6175</td> <td> 5239.316</td> <td>    0.087</td> <td> 0.930</td> <td>-9819.977</td> <td> 1.07e+04</td>\n",
       "</tr>\n",
       "<tr>\n",
       "  <th>FullBath</th>      <td> 1887.1767</td> <td> 8375.684</td> <td>    0.225</td> <td> 0.822</td> <td>-1.45e+04</td> <td> 1.83e+04</td>\n",
       "</tr>\n",
       "<tr>\n",
       "  <th>HalfBath</th>      <td> -943.8989</td> <td> 7178.262</td> <td>   -0.131</td> <td> 0.895</td> <td> -1.5e+04</td> <td> 1.31e+04</td>\n",
       "</tr>\n",
       "<tr>\n",
       "  <th>BedroomAbvGr</th>  <td>-8200.3334</td> <td> 7444.890</td> <td>   -1.101</td> <td> 0.271</td> <td>-2.28e+04</td> <td> 6403.777</td>\n",
       "</tr>\n",
       "<tr>\n",
       "  <th>KitchenAbvGr</th>  <td>-2636.0392</td> <td> 6153.485</td> <td>   -0.428</td> <td> 0.668</td> <td>-1.47e+04</td> <td> 9434.814</td>\n",
       "</tr>\n",
       "<tr>\n",
       "  <th>TotRmsAbvGrd</th>  <td> 8220.8485</td> <td> 1.08e+04</td> <td>    0.763</td> <td> 0.446</td> <td>-1.29e+04</td> <td> 2.94e+04</td>\n",
       "</tr>\n",
       "<tr>\n",
       "  <th>Fireplaces</th>    <td> 2519.7661</td> <td> 6138.898</td> <td>    0.410</td> <td> 0.682</td> <td>-9522.474</td> <td> 1.46e+04</td>\n",
       "</tr>\n",
       "<tr>\n",
       "  <th>GarageYrBlt</th>   <td> 2710.9325</td> <td> 8818.667</td> <td>    0.307</td> <td> 0.759</td> <td>-1.46e+04</td> <td>    2e+04</td>\n",
       "</tr>\n",
       "<tr>\n",
       "  <th>GarageCars</th>    <td> 8312.3492</td> <td> 1.15e+04</td> <td>    0.723</td> <td> 0.470</td> <td>-1.42e+04</td> <td> 3.09e+04</td>\n",
       "</tr>\n",
       "<tr>\n",
       "  <th>GarageArea</th>    <td> -820.5652</td> <td> 1.14e+04</td> <td>   -0.072</td> <td> 0.943</td> <td>-2.32e+04</td> <td> 2.15e+04</td>\n",
       "</tr>\n",
       "<tr>\n",
       "  <th>WoodDeckSF</th>    <td> 2994.1661</td> <td> 5381.681</td> <td>    0.556</td> <td> 0.578</td> <td>-7562.696</td> <td> 1.36e+04</td>\n",
       "</tr>\n",
       "<tr>\n",
       "  <th>OpenPorchSF</th>   <td> -179.1728</td> <td> 5386.176</td> <td>   -0.033</td> <td> 0.973</td> <td>-1.07e+04</td> <td> 1.04e+04</td>\n",
       "</tr>\n",
       "<tr>\n",
       "  <th>EnclosedPorch</th> <td>  701.9129</td> <td> 5522.835</td> <td>    0.127</td> <td> 0.899</td> <td>-1.01e+04</td> <td> 1.15e+04</td>\n",
       "</tr>\n",
       "<tr>\n",
       "  <th>3SsnPorch</th>     <td>  595.4686</td> <td> 4931.294</td> <td>    0.121</td> <td> 0.904</td> <td>-9077.901</td> <td> 1.03e+04</td>\n",
       "</tr>\n",
       "<tr>\n",
       "  <th>ScreenPorch</th>   <td> 3111.9090</td> <td> 5137.736</td> <td>    0.606</td> <td> 0.545</td> <td>-6966.422</td> <td> 1.32e+04</td>\n",
       "</tr>\n",
       "<tr>\n",
       "  <th>PoolArea</th>      <td>-1163.2670</td> <td> 5116.441</td> <td>   -0.227</td> <td> 0.820</td> <td>-1.12e+04</td> <td> 8873.292</td>\n",
       "</tr>\n",
       "<tr>\n",
       "  <th>MiscVal</th>       <td> -392.3765</td> <td> 4934.544</td> <td>   -0.080</td> <td> 0.937</td> <td>-1.01e+04</td> <td> 9287.367</td>\n",
       "</tr>\n",
       "<tr>\n",
       "  <th>MoSold</th>        <td> -117.1390</td> <td> 4997.339</td> <td>   -0.023</td> <td> 0.981</td> <td>-9920.064</td> <td> 9685.786</td>\n",
       "</tr>\n",
       "<tr>\n",
       "  <th>YrSold</th>        <td>-1024.0617</td> <td> 5001.590</td> <td>   -0.205</td> <td> 0.838</td> <td>-1.08e+04</td> <td> 8787.203</td>\n",
       "</tr>\n",
       "</table>\n",
       "<table class=\"simpletable\">\n",
       "<tr>\n",
       "  <th>Omnibus:</th>       <td>585.003</td> <th>  Durbin-Watson:     </th>  <td>   0.068</td> \n",
       "</tr>\n",
       "<tr>\n",
       "  <th>Prob(Omnibus):</th> <td> 0.000</td>  <th>  Jarque-Bera (JB):  </th> <td>100362.814</td>\n",
       "</tr>\n",
       "<tr>\n",
       "  <th>Skew:</th>          <td>-0.732</td>  <th>  Prob(JB):          </th>  <td>    0.00</td> \n",
       "</tr>\n",
       "<tr>\n",
       "  <th>Kurtosis:</th>      <td>43.591</td>  <th>  Cond. No.          </th>  <td>1.46e+16</td> \n",
       "</tr>\n",
       "</table><br/><br/>Warnings:<br/>[1] Standard Errors assume that the covariance matrix of the errors is correctly specified.<br/>[2] The smallest eigenvalue is 4.88e-29. This might indicate that there are<br/>strong multicollinearity problems or that the design matrix is singular."
      ],
      "text/plain": [
       "<class 'statsmodels.iolib.summary.Summary'>\n",
       "\"\"\"\n",
       "                            OLS Regression Results                            \n",
       "==============================================================================\n",
       "Dep. Variable:              SalePrice   R-squared:                       0.131\n",
       "Model:                            OLS   Adj. R-squared:                  0.111\n",
       "Method:                 Least Squares   F-statistic:                     6.343\n",
       "Date:                Sat, 20 Oct 2018   Prob (F-statistic):           5.86e-26\n",
       "Time:                        11:40:07   Log-Likelihood:                -19772.\n",
       "No. Observations:                1460   AIC:                         3.961e+04\n",
       "Df Residuals:                    1426   BIC:                         3.979e+04\n",
       "Df Model:                          34                                         \n",
       "Covariance Type:            nonrobust                                         \n",
       "=================================================================================\n",
       "                    coef    std err          t      P>|t|      [0.025      0.975]\n",
       "---------------------------------------------------------------------------------\n",
       "MSSubClass    -7751.6575   6255.474     -1.239      0.215      -2e+04    4519.262\n",
       "LotFrontage   -1534.7682   5948.077     -0.258      0.796   -1.32e+04    1.01e+04\n",
       "LotArea        4309.4956   5442.596      0.792      0.429   -6366.859     1.5e+04\n",
       "OverallQual    2.404e+04   8801.436      2.732      0.006    6776.092    4.13e+04\n",
       "OverallCond    5186.2497   6161.811      0.842      0.400   -6900.937    1.73e+04\n",
       "YearBuilt      8378.9476   1.08e+04      0.775      0.438   -1.28e+04    2.96e+04\n",
       "YearRemodAdd   2823.7228   7593.014      0.372      0.710   -1.21e+04    1.77e+04\n",
       "MasVnrArea     5626.2114   5755.739      0.977      0.328   -5664.412    1.69e+04\n",
       "BsmtFinSF1     4328.7757   5429.140      0.797      0.425   -6321.182     1.5e+04\n",
       "BsmtFinSF2     -228.5180   4970.623     -0.046      0.963   -9979.036    9522.000\n",
       "BsmtUnfSF      -199.8616   4702.380     -0.043      0.966   -9424.185    9024.462\n",
       "TotalBsmtSF    4215.0611   6698.308      0.629      0.529   -8924.534    1.74e+04\n",
       "1stFlrSF       8564.0716   7957.913      1.076      0.282   -7046.401    2.42e+04\n",
       "2ndFlrSF       9559.1067   6935.754      1.378      0.168   -4046.270    2.32e+04\n",
       "LowQualFinSF     -7.3055   5164.098     -0.001      0.999   -1.01e+04    1.01e+04\n",
       "GrLivArea      1.424e+04   7239.642      1.967      0.049      39.253    2.84e+04\n",
       "BsmtFullBath   4793.3480   7264.324      0.660      0.509   -9456.561     1.9e+04\n",
       "BsmtHalfBath    457.6175   5239.316      0.087      0.930   -9819.977    1.07e+04\n",
       "FullBath       1887.1767   8375.684      0.225      0.822   -1.45e+04    1.83e+04\n",
       "HalfBath       -943.8989   7178.262     -0.131      0.895    -1.5e+04    1.31e+04\n",
       "BedroomAbvGr  -8200.3334   7444.890     -1.101      0.271   -2.28e+04    6403.777\n",
       "KitchenAbvGr  -2636.0392   6153.485     -0.428      0.668   -1.47e+04    9434.814\n",
       "TotRmsAbvGrd   8220.8485   1.08e+04      0.763      0.446   -1.29e+04    2.94e+04\n",
       "Fireplaces     2519.7661   6138.898      0.410      0.682   -9522.474    1.46e+04\n",
       "GarageYrBlt    2710.9325   8818.667      0.307      0.759   -1.46e+04       2e+04\n",
       "GarageCars     8312.3492   1.15e+04      0.723      0.470   -1.42e+04    3.09e+04\n",
       "GarageArea     -820.5652   1.14e+04     -0.072      0.943   -2.32e+04    2.15e+04\n",
       "WoodDeckSF     2994.1661   5381.681      0.556      0.578   -7562.696    1.36e+04\n",
       "OpenPorchSF    -179.1728   5386.176     -0.033      0.973   -1.07e+04    1.04e+04\n",
       "EnclosedPorch   701.9129   5522.835      0.127      0.899   -1.01e+04    1.15e+04\n",
       "3SsnPorch       595.4686   4931.294      0.121      0.904   -9077.901    1.03e+04\n",
       "ScreenPorch    3111.9090   5137.736      0.606      0.545   -6966.422    1.32e+04\n",
       "PoolArea      -1163.2670   5116.441     -0.227      0.820   -1.12e+04    8873.292\n",
       "MiscVal        -392.3765   4934.544     -0.080      0.937   -1.01e+04    9287.367\n",
       "MoSold         -117.1390   4997.339     -0.023      0.981   -9920.064    9685.786\n",
       "YrSold        -1024.0617   5001.590     -0.205      0.838   -1.08e+04    8787.203\n",
       "==============================================================================\n",
       "Omnibus:                      585.003   Durbin-Watson:                   0.068\n",
       "Prob(Omnibus):                  0.000   Jarque-Bera (JB):           100362.814\n",
       "Skew:                          -0.732   Prob(JB):                         0.00\n",
       "Kurtosis:                      43.591   Cond. No.                     1.46e+16\n",
       "==============================================================================\n",
       "\n",
       "Warnings:\n",
       "[1] Standard Errors assume that the covariance matrix of the errors is correctly specified.\n",
       "[2] The smallest eigenvalue is 4.88e-29. This might indicate that there are\n",
       "strong multicollinearity problems or that the design matrix is singular.\n",
       "\"\"\""
      ]
     },
     "execution_count": 24,
     "metadata": {},
     "output_type": "execute_result"
    }
   ],
   "source": [
    "import statsmodels.api as sm\n",
    "X = house_prices_new[['MSSubClass','LotFrontage','LotArea','OverallQual','OverallCond','YearBuilt','YearRemodAdd','MasVnrArea',\n",
    "        'BsmtFinSF1','BsmtFinSF2','BsmtUnfSF','TotalBsmtSF','1stFlrSF','2ndFlrSF','LowQualFinSF','GrLivArea','BsmtFullBath',\n",
    "        'BsmtHalfBath','FullBath','HalfBath','BedroomAbvGr','KitchenAbvGr','TotRmsAbvGrd','Fireplaces','GarageYrBlt',\n",
    "        'GarageCars','GarageArea','WoodDeckSF','OpenPorchSF','EnclosedPorch','3SsnPorch','ScreenPorch','PoolArea','MiscVal',\n",
    "        'MoSold','YrSold']]\n",
    "Y = house_prices_new['SalePrice']\n",
    "model = sm.OLS(Y, X).fit()\n",
    "predictions = model.predict(X)\n",
    "model.summary()"
   ]
  },
  {
   "cell_type": "markdown",
   "metadata": {},
   "source": [
    "Let us look at all the features and thier respective coefficients."
   ]
  },
  {
   "cell_type": "code",
   "execution_count": 25,
   "metadata": {},
   "outputs": [
    {
     "data": {
      "text/html": [
       "<div>\n",
       "<style scoped>\n",
       "    .dataframe tbody tr th:only-of-type {\n",
       "        vertical-align: middle;\n",
       "    }\n",
       "\n",
       "    .dataframe tbody tr th {\n",
       "        vertical-align: top;\n",
       "    }\n",
       "\n",
       "    .dataframe thead th {\n",
       "        text-align: right;\n",
       "    }\n",
       "</style>\n",
       "<table border=\"1\" class=\"dataframe\">\n",
       "  <thead>\n",
       "    <tr style=\"text-align: right;\">\n",
       "      <th></th>\n",
       "      <th>Features</th>\n",
       "      <th>Estimated_Coefficients</th>\n",
       "    </tr>\n",
       "  </thead>\n",
       "  <tbody>\n",
       "    <tr>\n",
       "      <th>33</th>\n",
       "      <td>MiscVal</td>\n",
       "      <td>21298.626224</td>\n",
       "    </tr>\n",
       "    <tr>\n",
       "      <th>16</th>\n",
       "      <td>BsmtFullBath</td>\n",
       "      <td>15327.722992</td>\n",
       "    </tr>\n",
       "    <tr>\n",
       "      <th>14</th>\n",
       "      <td>LowQualFinSF</td>\n",
       "      <td>14026.806738</td>\n",
       "    </tr>\n",
       "    <tr>\n",
       "      <th>4</th>\n",
       "      <td>OverallCond</td>\n",
       "      <td>10836.631181</td>\n",
       "    </tr>\n",
       "    <tr>\n",
       "      <th>6</th>\n",
       "      <td>YearRemodAdd</td>\n",
       "      <td>10465.033786</td>\n",
       "    </tr>\n",
       "    <tr>\n",
       "      <th>3</th>\n",
       "      <td>OverallQual</td>\n",
       "      <td>8831.872085</td>\n",
       "    </tr>\n",
       "    <tr>\n",
       "      <th>12</th>\n",
       "      <td>1stFlrSF</td>\n",
       "      <td>8304.026483</td>\n",
       "    </tr>\n",
       "    <tr>\n",
       "      <th>9</th>\n",
       "      <td>BsmtFinSF2</td>\n",
       "      <td>6891.937360</td>\n",
       "    </tr>\n",
       "    <tr>\n",
       "      <th>5</th>\n",
       "      <td>YearBuilt</td>\n",
       "      <td>6805.543499</td>\n",
       "    </tr>\n",
       "    <tr>\n",
       "      <th>13</th>\n",
       "      <td>2ndFlrSF</td>\n",
       "      <td>5140.709475</td>\n",
       "    </tr>\n",
       "    <tr>\n",
       "      <th>27</th>\n",
       "      <td>WoodDeckSF</td>\n",
       "      <td>4823.832482</td>\n",
       "    </tr>\n",
       "    <tr>\n",
       "      <th>8</th>\n",
       "      <td>BsmtFinSF1</td>\n",
       "      <td>3535.074438</td>\n",
       "    </tr>\n",
       "    <tr>\n",
       "      <th>28</th>\n",
       "      <td>OpenPorchSF</td>\n",
       "      <td>3125.151412</td>\n",
       "    </tr>\n",
       "    <tr>\n",
       "      <th>26</th>\n",
       "      <td>GarageArea</td>\n",
       "      <td>2897.478249</td>\n",
       "    </tr>\n",
       "    <tr>\n",
       "      <th>24</th>\n",
       "      <td>GarageYrBlt</td>\n",
       "      <td>2809.293658</td>\n",
       "    </tr>\n",
       "    <tr>\n",
       "      <th>23</th>\n",
       "      <td>Fireplaces</td>\n",
       "      <td>2693.727114</td>\n",
       "    </tr>\n",
       "    <tr>\n",
       "      <th>19</th>\n",
       "      <td>HalfBath</td>\n",
       "      <td>2075.125328</td>\n",
       "    </tr>\n",
       "    <tr>\n",
       "      <th>10</th>\n",
       "      <td>BsmtUnfSF</td>\n",
       "      <td>1647.806470</td>\n",
       "    </tr>\n",
       "    <tr>\n",
       "      <th>32</th>\n",
       "      <td>PoolArea</td>\n",
       "      <td>1643.702738</td>\n",
       "    </tr>\n",
       "    <tr>\n",
       "      <th>7</th>\n",
       "      <td>MasVnrArea</td>\n",
       "      <td>1369.656190</td>\n",
       "    </tr>\n",
       "    <tr>\n",
       "      <th>31</th>\n",
       "      <td>ScreenPorch</td>\n",
       "      <td>1037.556490</td>\n",
       "    </tr>\n",
       "    <tr>\n",
       "      <th>17</th>\n",
       "      <td>BsmtHalfBath</td>\n",
       "      <td>941.567474</td>\n",
       "    </tr>\n",
       "    <tr>\n",
       "      <th>2</th>\n",
       "      <td>LotArea</td>\n",
       "      <td>755.553479</td>\n",
       "    </tr>\n",
       "    <tr>\n",
       "      <th>11</th>\n",
       "      <td>TotalBsmtSF</td>\n",
       "      <td>529.114514</td>\n",
       "    </tr>\n",
       "    <tr>\n",
       "      <th>18</th>\n",
       "      <td>FullBath</td>\n",
       "      <td>372.492401</td>\n",
       "    </tr>\n",
       "    <tr>\n",
       "      <th>29</th>\n",
       "      <td>EnclosedPorch</td>\n",
       "      <td>225.677087</td>\n",
       "    </tr>\n",
       "    <tr>\n",
       "      <th>0</th>\n",
       "      <td>MSSubClass</td>\n",
       "      <td>2.323880</td>\n",
       "    </tr>\n",
       "    <tr>\n",
       "      <th>34</th>\n",
       "      <td>MoSold</td>\n",
       "      <td>-81.729301</td>\n",
       "    </tr>\n",
       "    <tr>\n",
       "      <th>30</th>\n",
       "      <td>3SsnPorch</td>\n",
       "      <td>-158.479333</td>\n",
       "    </tr>\n",
       "    <tr>\n",
       "      <th>20</th>\n",
       "      <td>BedroomAbvGr</td>\n",
       "      <td>-217.771808</td>\n",
       "    </tr>\n",
       "    <tr>\n",
       "      <th>1</th>\n",
       "      <td>LotFrontage</td>\n",
       "      <td>-626.091765</td>\n",
       "    </tr>\n",
       "    <tr>\n",
       "      <th>35</th>\n",
       "      <td>YrSold</td>\n",
       "      <td>-1136.824685</td>\n",
       "    </tr>\n",
       "    <tr>\n",
       "      <th>15</th>\n",
       "      <td>GrLivArea</td>\n",
       "      <td>-1152.076289</td>\n",
       "    </tr>\n",
       "    <tr>\n",
       "      <th>25</th>\n",
       "      <td>GarageCars</td>\n",
       "      <td>-1489.893249</td>\n",
       "    </tr>\n",
       "    <tr>\n",
       "      <th>21</th>\n",
       "      <td>KitchenAbvGr</td>\n",
       "      <td>-2904.693587</td>\n",
       "    </tr>\n",
       "    <tr>\n",
       "      <th>22</th>\n",
       "      <td>TotRmsAbvGrd</td>\n",
       "      <td>-3429.718480</td>\n",
       "    </tr>\n",
       "  </tbody>\n",
       "</table>\n",
       "</div>"
      ],
      "text/plain": [
       "         Features  Estimated_Coefficients\n",
       "33        MiscVal            21298.626224\n",
       "16   BsmtFullBath            15327.722992\n",
       "14   LowQualFinSF            14026.806738\n",
       "4     OverallCond            10836.631181\n",
       "6    YearRemodAdd            10465.033786\n",
       "3     OverallQual             8831.872085\n",
       "12       1stFlrSF             8304.026483\n",
       "9      BsmtFinSF2             6891.937360\n",
       "5       YearBuilt             6805.543499\n",
       "13       2ndFlrSF             5140.709475\n",
       "27     WoodDeckSF             4823.832482\n",
       "8      BsmtFinSF1             3535.074438\n",
       "28    OpenPorchSF             3125.151412\n",
       "26     GarageArea             2897.478249\n",
       "24    GarageYrBlt             2809.293658\n",
       "23     Fireplaces             2693.727114\n",
       "19       HalfBath             2075.125328\n",
       "10      BsmtUnfSF             1647.806470\n",
       "32       PoolArea             1643.702738\n",
       "7      MasVnrArea             1369.656190\n",
       "31    ScreenPorch             1037.556490\n",
       "17   BsmtHalfBath              941.567474\n",
       "2         LotArea              755.553479\n",
       "11    TotalBsmtSF              529.114514\n",
       "18       FullBath              372.492401\n",
       "29  EnclosedPorch              225.677087\n",
       "0      MSSubClass                2.323880\n",
       "34         MoSold              -81.729301\n",
       "30      3SsnPorch             -158.479333\n",
       "20   BedroomAbvGr             -217.771808\n",
       "1     LotFrontage             -626.091765\n",
       "35         YrSold            -1136.824685\n",
       "15      GrLivArea            -1152.076289\n",
       "25     GarageCars            -1489.893249\n",
       "21   KitchenAbvGr            -2904.693587\n",
       "22   TotRmsAbvGrd            -3429.718480"
      ]
     },
     "execution_count": 25,
     "metadata": {},
     "output_type": "execute_result"
    }
   ],
   "source": [
    "# Features and their respective coefficients\n",
    "coeffs_df = pd.DataFrame(list(zip(X.columns, lm.coef_)), columns = ['Features', 'Estimated_Coefficients'])\n",
    "coeffs_df.sort_values(by='Estimated_Coefficients', ascending=False)"
   ]
  },
  {
   "cell_type": "markdown",
   "metadata": {},
   "source": [
    "- From the Exploratory analysis the top five features highly correlated with Sale Price are OverallQual, GrLivArea, GarageCars, GarageArea, TotalBsmtSF.\n",
    "- After performing Regression the features with higher postive coefficients are MiscVal, BsmtFullBath, LowQualFinSF, OverallCond, YearRemodAdd. \n",
    "- We can clearly observe that results are quite different. The OverallQual/ OverallCond which is simply the present condition of the house seems to influence the price the house.\n",
    "- Miscellaneous value (highest coefficient) is the value of miscellaneous features like Elevator, Garage, Shed, Tennis court etc., therefore having these aminities bumps up the price of the house.\n",
    "- According to Regression analysis other features such as Full bath in basement, Low quality finished square foot, Remodel date of the house, and square footage increases/ decreases the price of a house."
   ]
  },
  {
   "cell_type": "markdown",
   "metadata": {},
   "source": [
    "Let us have a closer look at the coefficients to explore the linear and non-linear relationship of the features with the target variable 'Sale Price'"
   ]
  },
  {
   "cell_type": "code",
   "execution_count": 26,
   "metadata": {},
   "outputs": [
    {
     "data": {
      "text/html": [
       "<div>\n",
       "<style scoped>\n",
       "    .dataframe tbody tr th:only-of-type {\n",
       "        vertical-align: middle;\n",
       "    }\n",
       "\n",
       "    .dataframe tbody tr th {\n",
       "        vertical-align: top;\n",
       "    }\n",
       "\n",
       "    .dataframe thead th {\n",
       "        text-align: right;\n",
       "    }\n",
       "</style>\n",
       "<table border=\"1\" class=\"dataframe\">\n",
       "  <thead>\n",
       "    <tr style=\"text-align: right;\">\n",
       "      <th></th>\n",
       "      <th>Features</th>\n",
       "      <th>Estimated_Coefficients</th>\n",
       "    </tr>\n",
       "  </thead>\n",
       "  <tbody>\n",
       "    <tr>\n",
       "      <th>33</th>\n",
       "      <td>MiscVal</td>\n",
       "      <td>21298.626224</td>\n",
       "    </tr>\n",
       "    <tr>\n",
       "      <th>16</th>\n",
       "      <td>BsmtFullBath</td>\n",
       "      <td>15327.722992</td>\n",
       "    </tr>\n",
       "    <tr>\n",
       "      <th>14</th>\n",
       "      <td>LowQualFinSF</td>\n",
       "      <td>14026.806738</td>\n",
       "    </tr>\n",
       "    <tr>\n",
       "      <th>4</th>\n",
       "      <td>OverallCond</td>\n",
       "      <td>10836.631181</td>\n",
       "    </tr>\n",
       "    <tr>\n",
       "      <th>6</th>\n",
       "      <td>YearRemodAdd</td>\n",
       "      <td>10465.033786</td>\n",
       "    </tr>\n",
       "    <tr>\n",
       "      <th>3</th>\n",
       "      <td>OverallQual</td>\n",
       "      <td>8831.872085</td>\n",
       "    </tr>\n",
       "    <tr>\n",
       "      <th>12</th>\n",
       "      <td>1stFlrSF</td>\n",
       "      <td>8304.026483</td>\n",
       "    </tr>\n",
       "    <tr>\n",
       "      <th>9</th>\n",
       "      <td>BsmtFinSF2</td>\n",
       "      <td>6891.937360</td>\n",
       "    </tr>\n",
       "    <tr>\n",
       "      <th>5</th>\n",
       "      <td>YearBuilt</td>\n",
       "      <td>6805.543499</td>\n",
       "    </tr>\n",
       "    <tr>\n",
       "      <th>13</th>\n",
       "      <td>2ndFlrSF</td>\n",
       "      <td>5140.709475</td>\n",
       "    </tr>\n",
       "    <tr>\n",
       "      <th>27</th>\n",
       "      <td>WoodDeckSF</td>\n",
       "      <td>4823.832482</td>\n",
       "    </tr>\n",
       "    <tr>\n",
       "      <th>8</th>\n",
       "      <td>BsmtFinSF1</td>\n",
       "      <td>3535.074438</td>\n",
       "    </tr>\n",
       "    <tr>\n",
       "      <th>28</th>\n",
       "      <td>OpenPorchSF</td>\n",
       "      <td>3125.151412</td>\n",
       "    </tr>\n",
       "    <tr>\n",
       "      <th>26</th>\n",
       "      <td>GarageArea</td>\n",
       "      <td>2897.478249</td>\n",
       "    </tr>\n",
       "    <tr>\n",
       "      <th>24</th>\n",
       "      <td>GarageYrBlt</td>\n",
       "      <td>2809.293658</td>\n",
       "    </tr>\n",
       "    <tr>\n",
       "      <th>23</th>\n",
       "      <td>Fireplaces</td>\n",
       "      <td>2693.727114</td>\n",
       "    </tr>\n",
       "    <tr>\n",
       "      <th>19</th>\n",
       "      <td>HalfBath</td>\n",
       "      <td>2075.125328</td>\n",
       "    </tr>\n",
       "    <tr>\n",
       "      <th>10</th>\n",
       "      <td>BsmtUnfSF</td>\n",
       "      <td>1647.806470</td>\n",
       "    </tr>\n",
       "    <tr>\n",
       "      <th>32</th>\n",
       "      <td>PoolArea</td>\n",
       "      <td>1643.702738</td>\n",
       "    </tr>\n",
       "    <tr>\n",
       "      <th>7</th>\n",
       "      <td>MasVnrArea</td>\n",
       "      <td>1369.656190</td>\n",
       "    </tr>\n",
       "    <tr>\n",
       "      <th>31</th>\n",
       "      <td>ScreenPorch</td>\n",
       "      <td>1037.556490</td>\n",
       "    </tr>\n",
       "    <tr>\n",
       "      <th>17</th>\n",
       "      <td>BsmtHalfBath</td>\n",
       "      <td>941.567474</td>\n",
       "    </tr>\n",
       "    <tr>\n",
       "      <th>2</th>\n",
       "      <td>LotArea</td>\n",
       "      <td>755.553479</td>\n",
       "    </tr>\n",
       "    <tr>\n",
       "      <th>11</th>\n",
       "      <td>TotalBsmtSF</td>\n",
       "      <td>529.114514</td>\n",
       "    </tr>\n",
       "    <tr>\n",
       "      <th>18</th>\n",
       "      <td>FullBath</td>\n",
       "      <td>372.492401</td>\n",
       "    </tr>\n",
       "    <tr>\n",
       "      <th>29</th>\n",
       "      <td>EnclosedPorch</td>\n",
       "      <td>225.677087</td>\n",
       "    </tr>\n",
       "    <tr>\n",
       "      <th>0</th>\n",
       "      <td>MSSubClass</td>\n",
       "      <td>2.323880</td>\n",
       "    </tr>\n",
       "  </tbody>\n",
       "</table>\n",
       "</div>"
      ],
      "text/plain": [
       "         Features  Estimated_Coefficients\n",
       "33        MiscVal            21298.626224\n",
       "16   BsmtFullBath            15327.722992\n",
       "14   LowQualFinSF            14026.806738\n",
       "4     OverallCond            10836.631181\n",
       "6    YearRemodAdd            10465.033786\n",
       "3     OverallQual             8831.872085\n",
       "12       1stFlrSF             8304.026483\n",
       "9      BsmtFinSF2             6891.937360\n",
       "5       YearBuilt             6805.543499\n",
       "13       2ndFlrSF             5140.709475\n",
       "27     WoodDeckSF             4823.832482\n",
       "8      BsmtFinSF1             3535.074438\n",
       "28    OpenPorchSF             3125.151412\n",
       "26     GarageArea             2897.478249\n",
       "24    GarageYrBlt             2809.293658\n",
       "23     Fireplaces             2693.727114\n",
       "19       HalfBath             2075.125328\n",
       "10      BsmtUnfSF             1647.806470\n",
       "32       PoolArea             1643.702738\n",
       "7      MasVnrArea             1369.656190\n",
       "31    ScreenPorch             1037.556490\n",
       "17   BsmtHalfBath              941.567474\n",
       "2         LotArea              755.553479\n",
       "11    TotalBsmtSF              529.114514\n",
       "18       FullBath              372.492401\n",
       "29  EnclosedPorch              225.677087\n",
       "0      MSSubClass                2.323880"
      ]
     },
     "execution_count": 26,
     "metadata": {},
     "output_type": "execute_result"
    }
   ],
   "source": [
    "pos_coeffs_df= coeffs_df[(coeffs_df['Estimated_Coefficients'] >= 0)].sort_values(by='Estimated_Coefficients', ascending=False)\n",
    "#pos_coeffs_df.sort_values(by='Estimated_Coefficients', ascending=False)\n",
    "pos_coeffs_df"
   ]
  },
  {
   "cell_type": "code",
   "execution_count": 27,
   "metadata": {},
   "outputs": [
    {
     "data": {
      "text/html": [
       "<div>\n",
       "<style scoped>\n",
       "    .dataframe tbody tr th:only-of-type {\n",
       "        vertical-align: middle;\n",
       "    }\n",
       "\n",
       "    .dataframe tbody tr th {\n",
       "        vertical-align: top;\n",
       "    }\n",
       "\n",
       "    .dataframe thead th {\n",
       "        text-align: right;\n",
       "    }\n",
       "</style>\n",
       "<table border=\"1\" class=\"dataframe\">\n",
       "  <thead>\n",
       "    <tr style=\"text-align: right;\">\n",
       "      <th></th>\n",
       "      <th>Features</th>\n",
       "      <th>Estimated_Coefficients</th>\n",
       "    </tr>\n",
       "  </thead>\n",
       "  <tbody>\n",
       "    <tr>\n",
       "      <th>22</th>\n",
       "      <td>TotRmsAbvGrd</td>\n",
       "      <td>-3429.718480</td>\n",
       "    </tr>\n",
       "    <tr>\n",
       "      <th>21</th>\n",
       "      <td>KitchenAbvGr</td>\n",
       "      <td>-2904.693587</td>\n",
       "    </tr>\n",
       "    <tr>\n",
       "      <th>25</th>\n",
       "      <td>GarageCars</td>\n",
       "      <td>-1489.893249</td>\n",
       "    </tr>\n",
       "    <tr>\n",
       "      <th>15</th>\n",
       "      <td>GrLivArea</td>\n",
       "      <td>-1152.076289</td>\n",
       "    </tr>\n",
       "    <tr>\n",
       "      <th>35</th>\n",
       "      <td>YrSold</td>\n",
       "      <td>-1136.824685</td>\n",
       "    </tr>\n",
       "    <tr>\n",
       "      <th>1</th>\n",
       "      <td>LotFrontage</td>\n",
       "      <td>-626.091765</td>\n",
       "    </tr>\n",
       "    <tr>\n",
       "      <th>20</th>\n",
       "      <td>BedroomAbvGr</td>\n",
       "      <td>-217.771808</td>\n",
       "    </tr>\n",
       "    <tr>\n",
       "      <th>30</th>\n",
       "      <td>3SsnPorch</td>\n",
       "      <td>-158.479333</td>\n",
       "    </tr>\n",
       "    <tr>\n",
       "      <th>34</th>\n",
       "      <td>MoSold</td>\n",
       "      <td>-81.729301</td>\n",
       "    </tr>\n",
       "  </tbody>\n",
       "</table>\n",
       "</div>"
      ],
      "text/plain": [
       "        Features  Estimated_Coefficients\n",
       "22  TotRmsAbvGrd            -3429.718480\n",
       "21  KitchenAbvGr            -2904.693587\n",
       "25    GarageCars            -1489.893249\n",
       "15     GrLivArea            -1152.076289\n",
       "35        YrSold            -1136.824685\n",
       "1    LotFrontage             -626.091765\n",
       "20  BedroomAbvGr             -217.771808\n",
       "30     3SsnPorch             -158.479333\n",
       "34        MoSold              -81.729301"
      ]
     },
     "execution_count": 27,
     "metadata": {},
     "output_type": "execute_result"
    }
   ],
   "source": [
    "neg_coeffs_df = coeffs_df[(coeffs_df['Estimated_Coefficients'] < 0)].sort_values(by='Estimated_Coefficients', ascending = True)\n",
    "neg_coeffs_df"
   ]
  },
  {
   "cell_type": "markdown",
   "metadata": {},
   "source": [
    "- Features like MiscVal, BsmtFullBath, LowQualFinSF, OverallCond, YearRemodAdd have linear correlation with Sale Price\n",
    "- According to the analysis above total number of rooms and kitchen above grade (above basement), garage area and year sold have negative correlation with Sale Price. \n",
    "- This is quite surprising as to why would total number of rooms above ground and garage area have negative correlation with the Sale Price"
   ]
  },
  {
   "cell_type": "markdown",
   "metadata": {},
   "source": [
    "**Regression Plot**\n",
    "\n",
    "Let us draw a regression plot between the test target values and predicted test values to assess how the model is performing."
   ]
  },
  {
   "cell_type": "code",
   "execution_count": 28,
   "metadata": {},
   "outputs": [
    {
     "data": {
      "text/plain": [
       "Text(0.5, 1.0, 'Regression Plot for Actual vs Predicted Values')"
      ]
     },
     "execution_count": 28,
     "metadata": {},
     "output_type": "execute_result"
    },
    {
     "data": {
      "image/png": "[encoded data removed]",
      "text/plain": [
       "<Figure size 432x288 with 1 Axes>"
      ]
     },
     "metadata": {},
     "output_type": "display_data"
    }
   ],
   "source": [
    "g = sns.regplot(x=lm.predict(X_test), y=Y_test, fit_reg=True)\n",
    "g.set(xlabel='Predicted House Prices($)', ylabel='Actual House Prices($)', title='Model Predictions')\n",
    "plt.title('Regression Plot for Actual vs Predicted Values')"
   ]
  },
  {
   "cell_type": "markdown",
   "metadata": {},
   "source": [
    "From the graph above the model seems to be a good fit for the data, except for a few outliers in the houses highly priced."
   ]
  },
  {
   "cell_type": "markdown",
   "metadata": {},
   "source": [
    "Let us calcualte $R^2$ and RMSE (Root Mean Square Error) for the train and test sets to further assess the model.\n",
    "\n",
    "$R^2$: It is the percentage of the response variable variation that is explained by a linear model\n",
    "\n",
    "RMSE: It is the square root of the mean of squared errors. Squared errors are the difference of actual and predicted values sqaured."
   ]
  },
  {
   "cell_type": "code",
   "execution_count": 29,
   "metadata": {},
   "outputs": [
    {
     "name": "stdout",
     "output_type": "stream",
     "text": [
      "R squared for train data is: 0.936\n",
      "R squared for test data is: 0.843\n"
     ]
    }
   ],
   "source": [
    "# R2 for train and test data\n",
    "R2_reg_train = lm.score(X_train,Y_train)\n",
    "R2_reg_test = lm.score(X_test,Y_test)\n",
    "print('R squared for train data is: %.3f' %(R2_reg_train))\n",
    "print('R squared for test data is: %.3f' %(R2_reg_test))"
   ]
  },
  {
   "cell_type": "markdown",
   "metadata": {},
   "source": [
    "- The train set explains more varaince (93.6%) than the test set (84.3%). This is quite common because the model is trained on training data, training set's $R^2$ is always greater than the test set's $R^2$.\n",
    "- An $R^2$ of 0.843 is a good score to start with. \n",
    "- Since the train score is more than test score, let us see if it is a case of Overfitting by plotting a Residual Plot"
   ]
  },
  {
   "cell_type": "code",
   "execution_count": 30,
   "metadata": {},
   "outputs": [
    {
     "name": "stdout",
     "output_type": "stream",
     "text": [
      "Root mean squared error for train data is: 20426.160\n",
      "Root mean sqaured error for test data is: 30352.931\n"
     ]
    }
   ],
   "source": [
    "from math import sqrt\n",
    "RMSE_reg_train = sqrt(np.mean((Y_train - lm.predict(X_train))**2))\n",
    "RMSE_reg_test = sqrt(np.mean((Y_test - lm.predict(X_test))**2))\n",
    "print('Root mean squared error for train data is: %.3f' %(RMSE_reg_train))\n",
    "print('Root mean sqaured error for test data is: %.3f' %(RMSE_reg_test))"
   ]
  },
  {
   "cell_type": "markdown",
   "metadata": {},
   "source": [
    "**Residual Plots**"
   ]
  },
  {
   "cell_type": "code",
   "execution_count": 31,
   "metadata": {},
   "outputs": [
    {
     "data": {
      "text/plain": [
       "Text(0.5, 1.0, 'Residual Plot using train data')"
      ]
     },
     "execution_count": 31,
     "metadata": {},
     "output_type": "execute_result"
    },
    {
     "data": {
      "image/png": "[encoded data removed]",
      "text/plain": [
       "<Figure size 432x288 with 1 Axes>"
      ]
     },
     "metadata": {},
     "output_type": "display_data"
    }
   ],
   "source": [
    "sns.residplot(x=lm.predict(X_train), y=Y_train, lowess=True)\n",
    "plt.title('Residual Plot using train data')"
   ]
  },
  {
   "cell_type": "markdown",
   "metadata": {},
   "source": [
    "Residual plot for the training data shows that the data points lie between \\$-50,000 to \\$50,000. "
   ]
  },
  {
   "cell_type": "code",
   "execution_count": 32,
   "metadata": {},
   "outputs": [
    {
     "data": {
      "text/plain": [
       "Text(0.5, 1.0, 'Residual Plot using test data')"
      ]
     },
     "execution_count": 32,
     "metadata": {},
     "output_type": "execute_result"
    },
    {
     "data": {
      "image/png": "[encoded data removed]",
      "text/plain": [
       "<Figure size 432x288 with 1 Axes>"
      ]
     },
     "metadata": {},
     "output_type": "display_data"
    }
   ],
   "source": [
    "sns.residplot(x=lm.predict(X_test), y=Y_test, lowess=True)\n",
    "plt.title('Residual Plot using test data')"
   ]
  },
  {
   "cell_type": "markdown",
   "metadata": {},
   "source": [
    "Test data is also showing the same range from the reference line."
   ]
  },
  {
   "cell_type": "code",
   "execution_count": 33,
   "metadata": {},
   "outputs": [
    {
     "data": {
      "text/plain": [
       "Text(0, 0.5, 'Residuals')"
      ]
     },
     "execution_count": 33,
     "metadata": {},
     "output_type": "execute_result"
    },
    {
     "data": {
      "image/png": "[encoded data removed]",
      "text/plain": [
       "<Figure size 432x288 with 1 Axes>"
      ]
     },
     "metadata": {},
     "output_type": "display_data"
    }
   ],
   "source": [
    "plt.scatter(lm.predict(X_train), lm.predict(X_train) - Y_train, c='b', s=40, alpha=0.5)\n",
    "plt.scatter(lm.predict(X_test), lm.predict(X_test) - Y_test, c='g', s=40)\n",
    "plt.hlines(y = 0, xmin=0, xmax = 50)\n",
    "plt.title('Residual Plot using training (blue) and test (green) data')\n",
    "plt.ylabel('Residuals')"
   ]
  },
  {
   "cell_type": "markdown",
   "metadata": {},
   "source": [
    "The blue dots represent train data and grren dots represent test data. From the residual plot above it is evident that the model is a good fit for test data as well. The data lies between +/- \\$50,000 from the reference line. "
   ]
  },
  {
   "cell_type": "markdown",
   "metadata": {},
   "source": [
    "**Analysis:** \n",
    "- The regression line appears to be a **good fit for the data**.\n",
    "- The train and test scores not being too different form each other, indiactes that there is **no Overfitting**.\n",
    "- The distribution of test and train data looks similar in the residual plot, which says that there is **no big difference in residuals**. And the data is spread around -50,000 and 50,000. \n",
    "- In terms of the actual problem we can infer that there might be a difference of \\$50,000 for every house if important features like Aminities, Full bath in basement, Quality of finished square footage, Overall condition and quality of the house, Remodel date etc. \n",
    "- This seems to be relevant in the real world scenario in real estate market. For example the difference between a basement house and a non-basement house is \\$50,000. Similarly an increase in number of bedrooms/ bathrooms/ square footage can increase the price of the house by \\$30,000 - \\$40,000.\n",
    "- Clearly the **important features** that control the house price are the **Condition, Square footage(basement, 1st & 2nd floors), Garage area, Year built/remodeled**."
   ]
  },
  {
   "cell_type": "markdown",
   "metadata": {},
   "source": [
    "# Regularization"
   ]
  },
  {
   "cell_type": "markdown",
   "metadata": {},
   "source": [
    "With as many as 306 features in the model it is natural for the model to get quite complex. The model sticks too much to the data and the model has probably learned the background noise which results in high variance while being fit, which leads to **Overfitting**. This results in poor prediction and generalization power when applied o data outside the training set. To overcome this problem **regularization technique** is used. \n",
    "\n",
    "To find the best model, the common method in machine learning is to define a loss or cost function that describes how well the model fits the data. The goal is to find the model that minimzes this loss function. The idea is to penalize this loss function by adding a complexity term that would give a bigger loss for more complex models. \n",
    "\n",
    "**Regularization** allows to shrink the coefficients to zero by introducing a tuning parameter **'lambda'** or **'alpha'**. This ensures:\n",
    "- Shrinking of parameters, therefore it is mostly used to prevent multicollinearity.\n",
    "- Reduces the model complexity by coefficient shrinkage."
   ]
  },
  {
   "cell_type": "markdown",
   "metadata": {},
   "source": [
    "The two popular methods used to regularize parameters are:\n",
    "- Ridge Regression\n",
    "- Lasso Regression\n",
    "\n",
    "**Ridge Regression:** Ridge regression uses L2 penalty to penalize coefficients. L2 penalty is the penalty equivalent to **square of the magnitude of coefficients** \n",
    "\n",
    "**Lasso Regression:** Lasso regression uses L1 penalty which is the **absolute value of the magnitude of coefficients**\n",
    "\n",
    "Let us apply Ridge and Lasso models to our data"
   ]
  },
  {
   "cell_type": "markdown",
   "metadata": {},
   "source": [
    "**1. Ridge Regression**"
   ]
  },
  {
   "cell_type": "code",
   "execution_count": 34,
   "metadata": {},
   "outputs": [
    {
     "data": {
      "text/plain": [
       "RidgeCV(alphas=[1e-15, 1e-10, 1e-08, 1e-05, 0.0001, 0.001, 0.01, 1, 5, 10],\n",
       "    cv=None, fit_intercept=True, gcv_mode=None, normalize=False,\n",
       "    scoring=None, store_cv_values=True)"
      ]
     },
     "execution_count": 34,
     "metadata": {},
     "output_type": "execute_result"
    }
   ],
   "source": [
    "# Define the alphas \n",
    "alphas = [1e-15, 1e-10, 1e-8, 1e-5,1e-4, 1e-3,1e-2, 1, 5, 10]\n",
    "# Create an object for RidgeCV\n",
    "ridge_reg = RidgeCV(alphas=alphas, cv=None, store_cv_values=True)\n",
    "# Fit the model to our training data\n",
    "ridge_reg.fit(X_train,Y_train)"
   ]
  },
  {
   "cell_type": "markdown",
   "metadata": {},
   "source": [
    "Let us calculate the $R^2$ on both train and test sets to assess the performance of our model."
   ]
  },
  {
   "cell_type": "code",
   "execution_count": 35,
   "metadata": {},
   "outputs": [
    {
     "name": "stdout",
     "output_type": "stream",
     "text": [
      "R squared for train data is: 0.898\n",
      "R squared for test data is: 0.887\n"
     ]
    }
   ],
   "source": [
    "# R2 for train and test data respectively\n",
    "R2_ridge_train = (ridge_reg.score(X_train, Y_train))\n",
    "R2_ridge_test = (ridge_reg.score(X_test,Y_test))\n",
    "print('R squared for train data is: %.3f' %(R2_ridge_train))\n",
    "print('R squared for test data is: %.3f' %(R2_ridge_test))"
   ]
  },
  {
   "cell_type": "markdown",
   "metadata": {},
   "source": [
    "- The **train set** explains obtained an $R^2$ of **0.898** and **test set** got an $R^2$ of **0.887**.\n",
    "- There is very little difference between train and test set, this signifies that the **model is a good fit for data**."
   ]
  },
  {
   "cell_type": "markdown",
   "metadata": {},
   "source": [
    "Let us calculate the RMSE values for train and test data sets"
   ]
  },
  {
   "cell_type": "code",
   "execution_count": 36,
   "metadata": {},
   "outputs": [
    {
     "name": "stdout",
     "output_type": "stream",
     "text": [
      "Root mean squared error for train data is: 25725.420\n",
      "Root mean sqaured error for test data is: 25777.429\n"
     ]
    }
   ],
   "source": [
    "RMSE_ridge_train = sqrt(np.mean((Y_train - ridge_reg.predict(X_train))**2))\n",
    "RMSE_ridge_test = sqrt(np.mean((Y_test - ridge_reg.predict(X_test))**2))\n",
    "print('Root mean squared error for train data is: %.3f' %(RMSE_ridge_train))\n",
    "print('Root mean sqaured error for test data is: %.3f' %(RMSE_ridge_test))"
   ]
  },
  {
   "cell_type": "markdown",
   "metadata": {},
   "source": [
    "Let us see the best alpha parameter for Ridge Regression"
   ]
  },
  {
   "cell_type": "code",
   "execution_count": 37,
   "metadata": {},
   "outputs": [
    {
     "name": "stdout",
     "output_type": "stream",
     "text": [
      "The estimated best regularization parameter is: 10.0\n"
     ]
    }
   ],
   "source": [
    "alpha_ridge_cv = ridge_reg.alpha_\n",
    "print('The estimated best regularization parameter is: %.1f' %(alpha_ridge_cv))"
   ]
  },
  {
   "cell_type": "markdown",
   "metadata": {},
   "source": [
    "**Regression Plot**\n",
    "\n",
    "Let us draw a regression plot between the actual and predicted house prices to see how well the regresssion line fits tha data."
   ]
  },
  {
   "cell_type": "code",
   "execution_count": 38,
   "metadata": {},
   "outputs": [
    {
     "data": {
      "text/plain": [
       "Text(0.5, 1.0, 'Regression Plot for Actual vs Predicted Values')"
      ]
     },
     "execution_count": 38,
     "metadata": {},
     "output_type": "execute_result"
    },
    {
     "data": {
      "image/png": "[encoded data removed]",
      "text/plain": [
       "<Figure size 432x288 with 1 Axes>"
      ]
     },
     "metadata": {},
     "output_type": "display_data"
    }
   ],
   "source": [
    "# Regression plot between actual and predicted prices \n",
    "g = sns.regplot(x=ridge_reg.predict(X_test), y=Y_test, fit_reg=True)\n",
    "g.set(xlabel='Predicted House Prices($)', ylabel='Actual House Prices($)', title='Model Predictions')\n",
    "plt.title('Regression Plot for Actual vs Predicted Values')"
   ]
  },
  {
   "cell_type": "markdown",
   "metadata": {},
   "source": [
    "The regression line looks like a good fit to the data, except for a few outliers in the higher house price range."
   ]
  },
  {
   "cell_type": "markdown",
   "metadata": {},
   "source": [
    "**Residual Plots**\n",
    "\n",
    "To drill down further let us plot some residual plots which helps giving better idea about the data. I decided to plot residual plots for train and test data seperately and another plot depicting train and test data points to get a better visual on data."
   ]
  },
  {
   "cell_type": "markdown",
   "metadata": {},
   "source": [
    "_Residual Plot - Train data_"
   ]
  },
  {
   "cell_type": "code",
   "execution_count": 39,
   "metadata": {},
   "outputs": [
    {
     "data": {
      "text/plain": [
       "Text(0.5, 1.0, 'Residual Plot for train data')"
      ]
     },
     "execution_count": 39,
     "metadata": {},
     "output_type": "execute_result"
    },
    {
     "data": {
      "image/png": "[encoded data removed]",
      "text/plain": [
       "<Figure size 432x288 with 1 Axes>"
      ]
     },
     "metadata": {},
     "output_type": "display_data"
    }
   ],
   "source": [
    "sns.residplot(x=ridge_reg.predict(X_train), y=Y_train, lowess=True)\n",
    "plt.title('Residual Plot for train data')"
   ]
  },
  {
   "cell_type": "markdown",
   "metadata": {},
   "source": [
    "The data seems to be close to the reference line (at 0). The data is spread around $-50,000 to $50,000 which is quite normal in real estate market."
   ]
  },
  {
   "cell_type": "markdown",
   "metadata": {},
   "source": [
    "_Residual Plot - Test data_"
   ]
  },
  {
   "cell_type": "code",
   "execution_count": 40,
   "metadata": {},
   "outputs": [
    {
     "data": {
      "text/plain": [
       "Text(0.5, 1.0, 'Residual Plot for test data')"
      ]
     },
     "execution_count": 40,
     "metadata": {},
     "output_type": "execute_result"
    },
    {
     "data": {
      "image/png": "[encoded data removed]",
      "text/plain": [
       "<Figure size 432x288 with 1 Axes>"
      ]
     },
     "metadata": {},
     "output_type": "display_data"
    }
   ],
   "source": [
    "sns.residplot(x=ridge_reg.predict(X_test), y=Y_test, lowess=True)\n",
    "plt.title('Residual Plot for test data')"
   ]
  },
  {
   "cell_type": "markdown",
   "metadata": {},
   "source": [
    "The residual plot for test data looks similar to the train data which is a good sign. We can see that the major percent of data lies within teh $-50,000 and $50,000 range which is the same as train data. Except for that there are a few outliers which is natural when the model is exposed to data outside the training data set."
   ]
  },
  {
   "cell_type": "markdown",
   "metadata": {},
   "source": [
    "_Residual Plot - Train and Test data_"
   ]
  },
  {
   "cell_type": "code",
   "execution_count": 41,
   "metadata": {},
   "outputs": [
    {
     "data": {
      "text/plain": [
       "Text(0, 0.5, 'Residuals')"
      ]
     },
     "execution_count": 41,
     "metadata": {},
     "output_type": "execute_result"
    },
    {
     "data": {
      "image/png": "[encoded data removed]",
      "text/plain": [
       "<Figure size 432x288 with 1 Axes>"
      ]
     },
     "metadata": {},
     "output_type": "display_data"
    }
   ],
   "source": [
    "plt.scatter(ridge_reg.predict(X_train), ridge_reg.predict(X_train) - Y_train, c='b', s=40, alpha=0.5)\n",
    "plt.scatter(ridge_reg.predict(X_test), ridge_reg.predict(X_test) - Y_test, c='g', s=40)\n",
    "plt.hlines(y = 0, xmin=0, xmax = 50)\n",
    "plt.title(\"Linear regression with Ridge regularization for train (blue) and test (green) data\")\n",
    "plt.xlabel(\"Predicted values\")\n",
    "plt.ylabel('Residuals')"
   ]
  },
  {
   "cell_type": "markdown",
   "metadata": {},
   "source": [
    "The residual plot clearly explians how similar the train and test data are in the graph. This tells that the model provides good results on the test data too."
   ]
  },
  {
   "cell_type": "markdown",
   "metadata": {},
   "source": [
    "Let us look at the features and thier respective coefficients to know which features have positive and negative correlation with the target variable 'Sale Price'"
   ]
  },
  {
   "cell_type": "code",
   "execution_count": 42,
   "metadata": {},
   "outputs": [
    {
     "data": {
      "text/html": [
       "<div>\n",
       "<style scoped>\n",
       "    .dataframe tbody tr th:only-of-type {\n",
       "        vertical-align: middle;\n",
       "    }\n",
       "\n",
       "    .dataframe tbody tr th {\n",
       "        vertical-align: top;\n",
       "    }\n",
       "\n",
       "    .dataframe thead th {\n",
       "        text-align: right;\n",
       "    }\n",
       "</style>\n",
       "<table border=\"1\" class=\"dataframe\">\n",
       "  <thead>\n",
       "    <tr style=\"text-align: right;\">\n",
       "      <th></th>\n",
       "      <th>Features</th>\n",
       "      <th>Estimated_Coefficients</th>\n",
       "    </tr>\n",
       "  </thead>\n",
       "  <tbody>\n",
       "    <tr>\n",
       "      <th>16</th>\n",
       "      <td>BsmtFullBath</td>\n",
       "      <td>15120.595840</td>\n",
       "    </tr>\n",
       "    <tr>\n",
       "      <th>4</th>\n",
       "      <td>OverallCond</td>\n",
       "      <td>14442.505839</td>\n",
       "    </tr>\n",
       "    <tr>\n",
       "      <th>14</th>\n",
       "      <td>LowQualFinSF</td>\n",
       "      <td>12992.951015</td>\n",
       "    </tr>\n",
       "    <tr>\n",
       "      <th>26</th>\n",
       "      <td>GarageArea</td>\n",
       "      <td>11016.749147</td>\n",
       "    </tr>\n",
       "    <tr>\n",
       "      <th>13</th>\n",
       "      <td>2ndFlrSF</td>\n",
       "      <td>5919.494230</td>\n",
       "    </tr>\n",
       "    <tr>\n",
       "      <th>5</th>\n",
       "      <td>YearBuilt</td>\n",
       "      <td>5738.125302</td>\n",
       "    </tr>\n",
       "    <tr>\n",
       "      <th>23</th>\n",
       "      <td>Fireplaces</td>\n",
       "      <td>5154.235404</td>\n",
       "    </tr>\n",
       "    <tr>\n",
       "      <th>6</th>\n",
       "      <td>YearRemodAdd</td>\n",
       "      <td>5140.174280</td>\n",
       "    </tr>\n",
       "    <tr>\n",
       "      <th>3</th>\n",
       "      <td>OverallQual</td>\n",
       "      <td>4739.258703</td>\n",
       "    </tr>\n",
       "    <tr>\n",
       "      <th>19</th>\n",
       "      <td>HalfBath</td>\n",
       "      <td>4460.987753</td>\n",
       "    </tr>\n",
       "    <tr>\n",
       "      <th>17</th>\n",
       "      <td>BsmtHalfBath</td>\n",
       "      <td>4258.125461</td>\n",
       "    </tr>\n",
       "    <tr>\n",
       "      <th>28</th>\n",
       "      <td>OpenPorchSF</td>\n",
       "      <td>3331.289186</td>\n",
       "    </tr>\n",
       "    <tr>\n",
       "      <th>8</th>\n",
       "      <td>BsmtFinSF1</td>\n",
       "      <td>3279.457636</td>\n",
       "    </tr>\n",
       "    <tr>\n",
       "      <th>32</th>\n",
       "      <td>PoolArea</td>\n",
       "      <td>2241.548791</td>\n",
       "    </tr>\n",
       "    <tr>\n",
       "      <th>33</th>\n",
       "      <td>MiscVal</td>\n",
       "      <td>2237.119868</td>\n",
       "    </tr>\n",
       "    <tr>\n",
       "      <th>24</th>\n",
       "      <td>GarageYrBlt</td>\n",
       "      <td>1690.313745</td>\n",
       "    </tr>\n",
       "    <tr>\n",
       "      <th>31</th>\n",
       "      <td>ScreenPorch</td>\n",
       "      <td>1380.682623</td>\n",
       "    </tr>\n",
       "    <tr>\n",
       "      <th>30</th>\n",
       "      <td>3SsnPorch</td>\n",
       "      <td>713.788881</td>\n",
       "    </tr>\n",
       "    <tr>\n",
       "      <th>7</th>\n",
       "      <td>MasVnrArea</td>\n",
       "      <td>677.913643</td>\n",
       "    </tr>\n",
       "    <tr>\n",
       "      <th>10</th>\n",
       "      <td>BsmtUnfSF</td>\n",
       "      <td>632.540829</td>\n",
       "    </tr>\n",
       "    <tr>\n",
       "      <th>18</th>\n",
       "      <td>FullBath</td>\n",
       "      <td>555.760891</td>\n",
       "    </tr>\n",
       "    <tr>\n",
       "      <th>20</th>\n",
       "      <td>BedroomAbvGr</td>\n",
       "      <td>474.263996</td>\n",
       "    </tr>\n",
       "    <tr>\n",
       "      <th>11</th>\n",
       "      <td>TotalBsmtSF</td>\n",
       "      <td>29.327799</td>\n",
       "    </tr>\n",
       "    <tr>\n",
       "      <th>0</th>\n",
       "      <td>MSSubClass</td>\n",
       "      <td>0.184199</td>\n",
       "    </tr>\n",
       "    <tr>\n",
       "      <th>34</th>\n",
       "      <td>MoSold</td>\n",
       "      <td>-74.194003</td>\n",
       "    </tr>\n",
       "    <tr>\n",
       "      <th>15</th>\n",
       "      <td>GrLivArea</td>\n",
       "      <td>-300.679614</td>\n",
       "    </tr>\n",
       "    <tr>\n",
       "      <th>29</th>\n",
       "      <td>EnclosedPorch</td>\n",
       "      <td>-306.981433</td>\n",
       "    </tr>\n",
       "    <tr>\n",
       "      <th>35</th>\n",
       "      <td>YrSold</td>\n",
       "      <td>-527.354429</td>\n",
       "    </tr>\n",
       "    <tr>\n",
       "      <th>27</th>\n",
       "      <td>WoodDeckSF</td>\n",
       "      <td>-593.196962</td>\n",
       "    </tr>\n",
       "    <tr>\n",
       "      <th>25</th>\n",
       "      <td>GarageCars</td>\n",
       "      <td>-972.311277</td>\n",
       "    </tr>\n",
       "    <tr>\n",
       "      <th>12</th>\n",
       "      <td>1stFlrSF</td>\n",
       "      <td>-1609.154838</td>\n",
       "    </tr>\n",
       "    <tr>\n",
       "      <th>9</th>\n",
       "      <td>BsmtFinSF2</td>\n",
       "      <td>-1799.930374</td>\n",
       "    </tr>\n",
       "    <tr>\n",
       "      <th>21</th>\n",
       "      <td>KitchenAbvGr</td>\n",
       "      <td>-2447.693972</td>\n",
       "    </tr>\n",
       "    <tr>\n",
       "      <th>22</th>\n",
       "      <td>TotRmsAbvGrd</td>\n",
       "      <td>-2784.507511</td>\n",
       "    </tr>\n",
       "    <tr>\n",
       "      <th>2</th>\n",
       "      <td>LotArea</td>\n",
       "      <td>-3161.394589</td>\n",
       "    </tr>\n",
       "    <tr>\n",
       "      <th>1</th>\n",
       "      <td>LotFrontage</td>\n",
       "      <td>-6482.443966</td>\n",
       "    </tr>\n",
       "  </tbody>\n",
       "</table>\n",
       "</div>"
      ],
      "text/plain": [
       "         Features  Estimated_Coefficients\n",
       "16   BsmtFullBath            15120.595840\n",
       "4     OverallCond            14442.505839\n",
       "14   LowQualFinSF            12992.951015\n",
       "26     GarageArea            11016.749147\n",
       "13       2ndFlrSF             5919.494230\n",
       "5       YearBuilt             5738.125302\n",
       "23     Fireplaces             5154.235404\n",
       "6    YearRemodAdd             5140.174280\n",
       "3     OverallQual             4739.258703\n",
       "19       HalfBath             4460.987753\n",
       "17   BsmtHalfBath             4258.125461\n",
       "28    OpenPorchSF             3331.289186\n",
       "8      BsmtFinSF1             3279.457636\n",
       "32       PoolArea             2241.548791\n",
       "33        MiscVal             2237.119868\n",
       "24    GarageYrBlt             1690.313745\n",
       "31    ScreenPorch             1380.682623\n",
       "30      3SsnPorch              713.788881\n",
       "7      MasVnrArea              677.913643\n",
       "10      BsmtUnfSF              632.540829\n",
       "18       FullBath              555.760891\n",
       "20   BedroomAbvGr              474.263996\n",
       "11    TotalBsmtSF               29.327799\n",
       "0      MSSubClass                0.184199\n",
       "34         MoSold              -74.194003\n",
       "15      GrLivArea             -300.679614\n",
       "29  EnclosedPorch             -306.981433\n",
       "35         YrSold             -527.354429\n",
       "27     WoodDeckSF             -593.196962\n",
       "25     GarageCars             -972.311277\n",
       "12       1stFlrSF            -1609.154838\n",
       "9      BsmtFinSF2            -1799.930374\n",
       "21   KitchenAbvGr            -2447.693972\n",
       "22   TotRmsAbvGrd            -2784.507511\n",
       "2         LotArea            -3161.394589\n",
       "1     LotFrontage            -6482.443966"
      ]
     },
     "execution_count": 42,
     "metadata": {},
     "output_type": "execute_result"
    }
   ],
   "source": [
    "# Features and thier respective coefficients\n",
    "ridge_coeffs_df = pd.DataFrame(list(zip(X.columns, ridge_reg.coef_)), columns = ['Features', 'Estimated_Coefficients'])\n",
    "ridge_coeffs_df.sort_values(by='Estimated_Coefficients', ascending=False)"
   ]
  },
  {
   "cell_type": "markdown",
   "metadata": {},
   "source": [
    "Let us look a the positive and negative coefficients seperately"
   ]
  },
  {
   "cell_type": "code",
   "execution_count": 43,
   "metadata": {},
   "outputs": [
    {
     "data": {
      "text/html": [
       "<div>\n",
       "<style scoped>\n",
       "    .dataframe tbody tr th:only-of-type {\n",
       "        vertical-align: middle;\n",
       "    }\n",
       "\n",
       "    .dataframe tbody tr th {\n",
       "        vertical-align: top;\n",
       "    }\n",
       "\n",
       "    .dataframe thead th {\n",
       "        text-align: right;\n",
       "    }\n",
       "</style>\n",
       "<table border=\"1\" class=\"dataframe\">\n",
       "  <thead>\n",
       "    <tr style=\"text-align: right;\">\n",
       "      <th></th>\n",
       "      <th>Features</th>\n",
       "      <th>Estimated_Coefficients</th>\n",
       "    </tr>\n",
       "  </thead>\n",
       "  <tbody>\n",
       "    <tr>\n",
       "      <th>16</th>\n",
       "      <td>BsmtFullBath</td>\n",
       "      <td>15120.595840</td>\n",
       "    </tr>\n",
       "    <tr>\n",
       "      <th>4</th>\n",
       "      <td>OverallCond</td>\n",
       "      <td>14442.505839</td>\n",
       "    </tr>\n",
       "    <tr>\n",
       "      <th>14</th>\n",
       "      <td>LowQualFinSF</td>\n",
       "      <td>12992.951015</td>\n",
       "    </tr>\n",
       "    <tr>\n",
       "      <th>26</th>\n",
       "      <td>GarageArea</td>\n",
       "      <td>11016.749147</td>\n",
       "    </tr>\n",
       "    <tr>\n",
       "      <th>13</th>\n",
       "      <td>2ndFlrSF</td>\n",
       "      <td>5919.494230</td>\n",
       "    </tr>\n",
       "    <tr>\n",
       "      <th>5</th>\n",
       "      <td>YearBuilt</td>\n",
       "      <td>5738.125302</td>\n",
       "    </tr>\n",
       "    <tr>\n",
       "      <th>23</th>\n",
       "      <td>Fireplaces</td>\n",
       "      <td>5154.235404</td>\n",
       "    </tr>\n",
       "    <tr>\n",
       "      <th>6</th>\n",
       "      <td>YearRemodAdd</td>\n",
       "      <td>5140.174280</td>\n",
       "    </tr>\n",
       "    <tr>\n",
       "      <th>3</th>\n",
       "      <td>OverallQual</td>\n",
       "      <td>4739.258703</td>\n",
       "    </tr>\n",
       "    <tr>\n",
       "      <th>19</th>\n",
       "      <td>HalfBath</td>\n",
       "      <td>4460.987753</td>\n",
       "    </tr>\n",
       "    <tr>\n",
       "      <th>17</th>\n",
       "      <td>BsmtHalfBath</td>\n",
       "      <td>4258.125461</td>\n",
       "    </tr>\n",
       "    <tr>\n",
       "      <th>28</th>\n",
       "      <td>OpenPorchSF</td>\n",
       "      <td>3331.289186</td>\n",
       "    </tr>\n",
       "    <tr>\n",
       "      <th>8</th>\n",
       "      <td>BsmtFinSF1</td>\n",
       "      <td>3279.457636</td>\n",
       "    </tr>\n",
       "    <tr>\n",
       "      <th>32</th>\n",
       "      <td>PoolArea</td>\n",
       "      <td>2241.548791</td>\n",
       "    </tr>\n",
       "    <tr>\n",
       "      <th>33</th>\n",
       "      <td>MiscVal</td>\n",
       "      <td>2237.119868</td>\n",
       "    </tr>\n",
       "    <tr>\n",
       "      <th>24</th>\n",
       "      <td>GarageYrBlt</td>\n",
       "      <td>1690.313745</td>\n",
       "    </tr>\n",
       "    <tr>\n",
       "      <th>31</th>\n",
       "      <td>ScreenPorch</td>\n",
       "      <td>1380.682623</td>\n",
       "    </tr>\n",
       "    <tr>\n",
       "      <th>30</th>\n",
       "      <td>3SsnPorch</td>\n",
       "      <td>713.788881</td>\n",
       "    </tr>\n",
       "    <tr>\n",
       "      <th>7</th>\n",
       "      <td>MasVnrArea</td>\n",
       "      <td>677.913643</td>\n",
       "    </tr>\n",
       "    <tr>\n",
       "      <th>10</th>\n",
       "      <td>BsmtUnfSF</td>\n",
       "      <td>632.540829</td>\n",
       "    </tr>\n",
       "    <tr>\n",
       "      <th>18</th>\n",
       "      <td>FullBath</td>\n",
       "      <td>555.760891</td>\n",
       "    </tr>\n",
       "    <tr>\n",
       "      <th>20</th>\n",
       "      <td>BedroomAbvGr</td>\n",
       "      <td>474.263996</td>\n",
       "    </tr>\n",
       "    <tr>\n",
       "      <th>11</th>\n",
       "      <td>TotalBsmtSF</td>\n",
       "      <td>29.327799</td>\n",
       "    </tr>\n",
       "    <tr>\n",
       "      <th>0</th>\n",
       "      <td>MSSubClass</td>\n",
       "      <td>0.184199</td>\n",
       "    </tr>\n",
       "  </tbody>\n",
       "</table>\n",
       "</div>"
      ],
      "text/plain": [
       "        Features  Estimated_Coefficients\n",
       "16  BsmtFullBath            15120.595840\n",
       "4    OverallCond            14442.505839\n",
       "14  LowQualFinSF            12992.951015\n",
       "26    GarageArea            11016.749147\n",
       "13      2ndFlrSF             5919.494230\n",
       "5      YearBuilt             5738.125302\n",
       "23    Fireplaces             5154.235404\n",
       "6   YearRemodAdd             5140.174280\n",
       "3    OverallQual             4739.258703\n",
       "19      HalfBath             4460.987753\n",
       "17  BsmtHalfBath             4258.125461\n",
       "28   OpenPorchSF             3331.289186\n",
       "8     BsmtFinSF1             3279.457636\n",
       "32      PoolArea             2241.548791\n",
       "33       MiscVal             2237.119868\n",
       "24   GarageYrBlt             1690.313745\n",
       "31   ScreenPorch             1380.682623\n",
       "30     3SsnPorch              713.788881\n",
       "7     MasVnrArea              677.913643\n",
       "10     BsmtUnfSF              632.540829\n",
       "18      FullBath              555.760891\n",
       "20  BedroomAbvGr              474.263996\n",
       "11   TotalBsmtSF               29.327799\n",
       "0     MSSubClass                0.184199"
      ]
     },
     "execution_count": 43,
     "metadata": {},
     "output_type": "execute_result"
    }
   ],
   "source": [
    "ridge_pos_coeffs_df = ridge_coeffs_df[(ridge_coeffs_df['Estimated_Coefficients'])>=0].sort_values(by='Estimated_Coefficients', ascending=False)\n",
    "ridge_pos_coeffs_df"
   ]
  },
  {
   "cell_type": "markdown",
   "metadata": {},
   "source": [
    "- Let us look at the top five important coefficients having linear correlation with the target variable 'Sale Price'. \n",
    "- **BsmtFullBath, OverallCond, LowQualFinSF, GarageArea, 2ndFlrSF** in Ridge Regression are different from the positive coefficients (MiscVal, BsmtFullBath, LowQualFinSF, OverallCond, YearRemodAdd) produced in Multiple Linear Regression.\n",
    "- This analysis says that aminities and year remodeled are not very important anymore.\n",
    "- Therefore we can conclude that a full bath in basement, overall condition of the house and low quality square footage are the most consistent correalted features to boast the Sale price of the house."
   ]
  },
  {
   "cell_type": "code",
   "execution_count": 44,
   "metadata": {},
   "outputs": [
    {
     "data": {
      "text/html": [
       "<div>\n",
       "<style scoped>\n",
       "    .dataframe tbody tr th:only-of-type {\n",
       "        vertical-align: middle;\n",
       "    }\n",
       "\n",
       "    .dataframe tbody tr th {\n",
       "        vertical-align: top;\n",
       "    }\n",
       "\n",
       "    .dataframe thead th {\n",
       "        text-align: right;\n",
       "    }\n",
       "</style>\n",
       "<table border=\"1\" class=\"dataframe\">\n",
       "  <thead>\n",
       "    <tr style=\"text-align: right;\">\n",
       "      <th></th>\n",
       "      <th>Features</th>\n",
       "      <th>Estimated_Coefficients</th>\n",
       "    </tr>\n",
       "  </thead>\n",
       "  <tbody>\n",
       "    <tr>\n",
       "      <th>1</th>\n",
       "      <td>LotFrontage</td>\n",
       "      <td>-6482.443966</td>\n",
       "    </tr>\n",
       "    <tr>\n",
       "      <th>2</th>\n",
       "      <td>LotArea</td>\n",
       "      <td>-3161.394589</td>\n",
       "    </tr>\n",
       "    <tr>\n",
       "      <th>22</th>\n",
       "      <td>TotRmsAbvGrd</td>\n",
       "      <td>-2784.507511</td>\n",
       "    </tr>\n",
       "    <tr>\n",
       "      <th>21</th>\n",
       "      <td>KitchenAbvGr</td>\n",
       "      <td>-2447.693972</td>\n",
       "    </tr>\n",
       "    <tr>\n",
       "      <th>9</th>\n",
       "      <td>BsmtFinSF2</td>\n",
       "      <td>-1799.930374</td>\n",
       "    </tr>\n",
       "    <tr>\n",
       "      <th>12</th>\n",
       "      <td>1stFlrSF</td>\n",
       "      <td>-1609.154838</td>\n",
       "    </tr>\n",
       "    <tr>\n",
       "      <th>25</th>\n",
       "      <td>GarageCars</td>\n",
       "      <td>-972.311277</td>\n",
       "    </tr>\n",
       "    <tr>\n",
       "      <th>27</th>\n",
       "      <td>WoodDeckSF</td>\n",
       "      <td>-593.196962</td>\n",
       "    </tr>\n",
       "    <tr>\n",
       "      <th>35</th>\n",
       "      <td>YrSold</td>\n",
       "      <td>-527.354429</td>\n",
       "    </tr>\n",
       "    <tr>\n",
       "      <th>29</th>\n",
       "      <td>EnclosedPorch</td>\n",
       "      <td>-306.981433</td>\n",
       "    </tr>\n",
       "    <tr>\n",
       "      <th>15</th>\n",
       "      <td>GrLivArea</td>\n",
       "      <td>-300.679614</td>\n",
       "    </tr>\n",
       "    <tr>\n",
       "      <th>34</th>\n",
       "      <td>MoSold</td>\n",
       "      <td>-74.194003</td>\n",
       "    </tr>\n",
       "  </tbody>\n",
       "</table>\n",
       "</div>"
      ],
      "text/plain": [
       "         Features  Estimated_Coefficients\n",
       "1     LotFrontage            -6482.443966\n",
       "2         LotArea            -3161.394589\n",
       "22   TotRmsAbvGrd            -2784.507511\n",
       "21   KitchenAbvGr            -2447.693972\n",
       "9      BsmtFinSF2            -1799.930374\n",
       "12       1stFlrSF            -1609.154838\n",
       "25     GarageCars             -972.311277\n",
       "27     WoodDeckSF             -593.196962\n",
       "35         YrSold             -527.354429\n",
       "29  EnclosedPorch             -306.981433\n",
       "15      GrLivArea             -300.679614\n",
       "34         MoSold              -74.194003"
      ]
     },
     "execution_count": 44,
     "metadata": {},
     "output_type": "execute_result"
    }
   ],
   "source": [
    "ridge_neg_coeffs_df = ridge_coeffs_df[(ridge_coeffs_df['Estimated_Coefficients'])<0].sort_values(by='Estimated_Coefficients',ascending = True)\n",
    "ridge_neg_coeffs_df"
   ]
  },
  {
   "cell_type": "markdown",
   "metadata": {},
   "source": [
    "Now let us look at the negative coefficients. We can clearly see that Lot Frontage (front yard of the house) is now the most negatively correlated feature to the Sale Price.\n",
    "\n",
    "Therefore we can say that if the front yard is more (probably more than back yard), number of rooms above ground is more then the Sale Price will decrease.\n",
    "\n",
    "I strongly believe that Kitchen above ground (according to our data above basement) might not really mean above basement because everyone prefers kitchen in the ground floor. This will hold right for houses without basement and the kitchen is above the ground i.e. on the 1st floor. This ideally would decrease the house price.\n",
    "\n",
    "The other features that decrease house price are Lot area, total rooms above ground and Basement (type 2) finished area. \n",
    "\n",
    "Note: Basement (type 2) - If a house has more than one basement."
   ]
  },
  {
   "cell_type": "markdown",
   "metadata": {},
   "source": [
    "**Cross Validation**\n",
    "\n",
    "When evaluating different hyperparameters for estimators, such as the alpha is this setting that must be manually set for an Ridge, there is still a risk of overfitting on the test set because the parameters can be tweaked until the estimator performs optimally. This way, knowledge about the test set can “leak” into the model and evaluation metrics no longer report on generalization performance. To solve this problem, yet another part of the dataset can be held out as a so-called “validation set”: training proceeds on the training set, after which evaluation is done on the validation set, and when the experiment seems to be successful, final evaluation can be done on the test set.Even though the model is trained exclusively on the training data, we are optimizing hyperparameters based on the test set. As such, estimate of performance can be optimistic, because we are essentially reporting best-case results.\n",
    "\n",
    "Another way to deal with this is through cross-validation (CV). In CV a test set should still be held out for final evaluation, but the validation set is no longer needed when doing CV. In the basic approach, called k-fold CV, the training set is split into k smaller sets. A model is trained using k-1 of the folds as training data; the resulting model is validated on the remaining part of the data (i.e., it is used as a test set to compute a performance measure such as accuracy)."
   ]
  },
  {
   "cell_type": "markdown",
   "metadata": {},
   "source": [
    "**GridSearchCV**\n",
    "\n",
    "Let us explore the **best hyper parameter (alpha)** and it's respective **score** using **GridSearchCV**"
   ]
  },
  {
   "cell_type": "code",
   "execution_count": 45,
   "metadata": {},
   "outputs": [
    {
     "data": {
      "text/plain": [
       "Ridge(alpha=1.0, copy_X=True, fit_intercept=True, max_iter=None,\n",
       "   normalize=False, random_state=None, solver='auto', tol=0.001)"
      ]
     },
     "execution_count": 45,
     "metadata": {},
     "output_type": "execute_result"
    }
   ],
   "source": [
    "# Create an object of type Ridge()\n",
    "ridge = Ridge()\n",
    "# Fit the model on the trainng data.\n",
    "ridge.fit(X_train, Y_train)"
   ]
  },
  {
   "cell_type": "markdown",
   "metadata": {},
   "source": [
    "**Apply GridSearchCV to Ridge Regression find out the alpha value and respective R square**"
   ]
  },
  {
   "cell_type": "code",
   "execution_count": 46,
   "metadata": {},
   "outputs": [
    {
     "name": "stderr",
     "output_type": "stream",
     "text": [
      "/anaconda3/lib/python3.6/site-packages/sklearn/linear_model/ridge.py:112: LinAlgWarning: scipy.linalg.solve\n",
      "Ill-conditioned matrix detected. Result is not guaranteed to be accurate.\n",
      "Reciprocal condition number5.815764e-19\n",
      "  overwrite_a=True).T\n",
      "/anaconda3/lib/python3.6/site-packages/sklearn/linear_model/ridge.py:112: LinAlgWarning: scipy.linalg.solve\n",
      "Ill-conditioned matrix detected. Result is not guaranteed to be accurate.\n",
      "Reciprocal condition number5.834476e-19\n",
      "  overwrite_a=True).T\n",
      "/anaconda3/lib/python3.6/site-packages/sklearn/linear_model/ridge.py:112: LinAlgWarning: scipy.linalg.solve\n",
      "Ill-conditioned matrix detected. Result is not guaranteed to be accurate.\n",
      "Reciprocal condition number5.477818e-19\n",
      "  overwrite_a=True).T\n",
      "/anaconda3/lib/python3.6/site-packages/sklearn/linear_model/ridge.py:112: LinAlgWarning: scipy.linalg.solve\n",
      "Ill-conditioned matrix detected. Result is not guaranteed to be accurate.\n",
      "Reciprocal condition number5.835575e-17\n",
      "  overwrite_a=True).T\n",
      "/anaconda3/lib/python3.6/site-packages/sklearn/linear_model/ridge.py:112: LinAlgWarning: scipy.linalg.solve\n",
      "Ill-conditioned matrix detected. Result is not guaranteed to be accurate.\n",
      "Reciprocal condition number5.847199e-17\n",
      "  overwrite_a=True).T\n",
      "/anaconda3/lib/python3.6/site-packages/sklearn/linear_model/ridge.py:112: LinAlgWarning: scipy.linalg.solve\n",
      "Ill-conditioned matrix detected. Result is not guaranteed to be accurate.\n",
      "Reciprocal condition number5.486628e-17\n",
      "  overwrite_a=True).T\n"
     ]
    },
    {
     "name": "stdout",
     "output_type": "stream",
     "text": [
      "Best alpha value is: 10\n",
      "Accuracy from alpha = 10: 0.8728769547478683 \n",
      "\n"
     ]
    }
   ],
   "source": [
    "# Import library to find out score (R2)\n",
    "from sklearn.metrics import r2_score\n",
    "\n",
    "# Define an array of alpha values\n",
    "alphas = [1e-15, 1e-10, 1e-8, 1e-5,1e-4, 1e-3,1e-2, 1, 5, 10]\n",
    "\n",
    "# Define GridSearchCV \n",
    "ridge_grid = GridSearchCV(estimator=ridge, param_grid = dict(alpha=alphas), scoring = 'r2')\n",
    "\n",
    "# Fit the training model \n",
    "ridge_grid.fit(X_train, Y_train)\n",
    "\n",
    "# Get the best alpha value and it's respective R2 score\n",
    "print(\"Best alpha value is: %s\" % ridge_grid.best_params_[\"alpha\"])\n",
    "print(\"Accuracy from alpha = %s: %s \\n\" % (ridge_grid.best_params_[\"alpha\"],r2_score(ridge_grid.predict(X_test), Y_test)))"
   ]
  },
  {
   "cell_type": "markdown",
   "metadata": {},
   "source": [
    "Let us compare the R2 scores for train and test data using GridSearchCV"
   ]
  },
  {
   "cell_type": "code",
   "execution_count": 47,
   "metadata": {},
   "outputs": [
    {
     "name": "stdout",
     "output_type": "stream",
     "text": [
      "R squared for train data is: 0.882\n",
      "R squared for test data is: 0.873\n"
     ]
    }
   ],
   "source": [
    "R2_ridge_grid_train = r2_score(ridge_grid.predict(X_train), Y_train)\n",
    "R2_ridge_grid_test = r2_score(ridge_grid.predict(X_test), Y_test)\n",
    "print('R squared for train data is: %.3f' %(R2_ridge_grid_train))\n",
    "print('R squared for test data is: %.3f' %(R2_ridge_grid_test))"
   ]
  },
  {
   "cell_type": "markdown",
   "metadata": {},
   "source": [
    "**Let us repeat the same process to find out RMSE values for train and test data sets**"
   ]
  },
  {
   "cell_type": "code",
   "execution_count": 48,
   "metadata": {},
   "outputs": [
    {
     "name": "stderr",
     "output_type": "stream",
     "text": [
      "/anaconda3/lib/python3.6/site-packages/sklearn/linear_model/ridge.py:112: LinAlgWarning: scipy.linalg.solve\n",
      "Ill-conditioned matrix detected. Result is not guaranteed to be accurate.\n",
      "Reciprocal condition number5.815764e-19\n",
      "  overwrite_a=True).T\n",
      "/anaconda3/lib/python3.6/site-packages/sklearn/linear_model/ridge.py:112: LinAlgWarning: scipy.linalg.solve\n",
      "Ill-conditioned matrix detected. Result is not guaranteed to be accurate.\n",
      "Reciprocal condition number5.834476e-19\n",
      "  overwrite_a=True).T\n",
      "/anaconda3/lib/python3.6/site-packages/sklearn/linear_model/ridge.py:112: LinAlgWarning: scipy.linalg.solve\n",
      "Ill-conditioned matrix detected. Result is not guaranteed to be accurate.\n",
      "Reciprocal condition number5.477818e-19\n",
      "  overwrite_a=True).T\n",
      "/anaconda3/lib/python3.6/site-packages/sklearn/linear_model/ridge.py:112: LinAlgWarning: scipy.linalg.solve\n",
      "Ill-conditioned matrix detected. Result is not guaranteed to be accurate.\n",
      "Reciprocal condition number5.835575e-17\n",
      "  overwrite_a=True).T\n",
      "/anaconda3/lib/python3.6/site-packages/sklearn/linear_model/ridge.py:112: LinAlgWarning: scipy.linalg.solve\n",
      "Ill-conditioned matrix detected. Result is not guaranteed to be accurate.\n",
      "Reciprocal condition number5.847199e-17\n",
      "  overwrite_a=True).T\n",
      "/anaconda3/lib/python3.6/site-packages/sklearn/linear_model/ridge.py:112: LinAlgWarning: scipy.linalg.solve\n",
      "Ill-conditioned matrix detected. Result is not guaranteed to be accurate.\n",
      "Reciprocal condition number5.486628e-17\n",
      "  overwrite_a=True).T\n"
     ]
    },
    {
     "name": "stdout",
     "output_type": "stream",
     "text": [
      "Best alpha value is: 10\n",
      "Accuracy from alpha = 10: 25777.428925228076 \n",
      "\n"
     ]
    }
   ],
   "source": [
    "# Import library to find out score MSE\n",
    "from sklearn.metrics import mean_squared_error\n",
    "\n",
    "# Define an array of alpha values\n",
    "alphas = [1e-15, 1e-10, 1e-8, 1e-5,1e-4, 1e-3,1e-2, 1, 5, 10]\n",
    "\n",
    "# Define GridSearchCV \n",
    "ridge_grid = GridSearchCV(estimator=ridge, param_grid = dict(alpha=alphas), scoring = 'neg_mean_squared_error')\n",
    "\n",
    "# Fit the training model \n",
    "ridge_grid.fit(X_train, Y_train)\n",
    "\n",
    "# Get the best alpha value and it's respective RMSE score\n",
    "print(\"Best alpha value is: %s\" % ridge_grid.best_params_[\"alpha\"])\n",
    "print(\"Accuracy from alpha = %s: %s \\n\" % (ridge_grid.best_params_[\"alpha\"],\n",
    "                                           sqrt(mean_squared_error(ridge_grid.predict(X_test), Y_test))))"
   ]
  },
  {
   "cell_type": "markdown",
   "metadata": {},
   "source": [
    "Let us compare the RMSE scores for train and test data using GridSearchCV"
   ]
  },
  {
   "cell_type": "code",
   "execution_count": 49,
   "metadata": {},
   "outputs": [
    {
     "name": "stdout",
     "output_type": "stream",
     "text": [
      "Root mean squared error for train data is: 25725.420\n",
      "Root mean sqaured error for test data is: 25777.429\n"
     ]
    }
   ],
   "source": [
    "RMSE_ridge_grid_train = sqrt(mean_squared_error(ridge_grid.predict(X_train), Y_train))\n",
    "RMSE_ridge_grid_test = sqrt(mean_squared_error(ridge_grid.predict(X_test), Y_test))\n",
    "print('Root mean squared error for train data is: %.3f' %(RMSE_ridge_grid_train))\n",
    "print('Root mean sqaured error for test data is: %.3f' %(RMSE_ridge_grid_test))"
   ]
  },
  {
   "cell_type": "markdown",
   "metadata": {},
   "source": [
    "**We can conclude that the best alpha value is 10 for Ridge Regression**"
   ]
  },
  {
   "cell_type": "markdown",
   "metadata": {},
   "source": [
    "**2. Lasso Regression**"
   ]
  },
  {
   "cell_type": "code",
   "execution_count": 50,
   "metadata": {},
   "outputs": [
    {
     "data": {
      "text/plain": [
       "LassoCV(alphas=[1e-15, 1e-10, 1e-08, 1e-05, 0.0001, 0.001, 0.01, 1, 5, 10],\n",
       "    copy_X=True, cv=None, eps=0.001, fit_intercept=True, max_iter=50000,\n",
       "    n_alphas=100, n_jobs=1, normalize=False, positive=False,\n",
       "    precompute='auto', random_state=None, selection='random', tol=0.1,\n",
       "    verbose=False)"
      ]
     },
     "execution_count": 50,
     "metadata": {},
     "output_type": "execute_result"
    }
   ],
   "source": [
    "# Define the alphas \n",
    "alphas = [1e-15, 1e-10, 1e-8, 1e-5,1e-4, 1e-3,1e-2, 1, 5, 10]\n",
    "# Create an object for LassoCV\n",
    "lasso_reg = LassoCV(alphas=alphas, cv=None, max_iter=50000, tol=0.1,selection='random')\n",
    "# Fit the model to our training data\n",
    "lasso_reg.fit(X_train,Y_train)"
   ]
  },
  {
   "cell_type": "markdown",
   "metadata": {},
   "source": [
    "Let us calculate the $R^2$ on both train and test sets to assess the performance of our model."
   ]
  },
  {
   "cell_type": "code",
   "execution_count": 51,
   "metadata": {},
   "outputs": [
    {
     "name": "stdout",
     "output_type": "stream",
     "text": [
      "R squared for train data is: 0.920\n",
      "R squared for test data is: 0.869\n"
     ]
    }
   ],
   "source": [
    "# R2 for train and test data respectively\n",
    "R2_train = (lasso_reg.score(X_train, Y_train))\n",
    "R2_test = (lasso_reg.score(X_test,Y_test))\n",
    "print('R squared for train data is: %.3f' %(R2_train))\n",
    "print('R squared for test data is: %.3f' %(R2_test))"
   ]
  },
  {
   "cell_type": "markdown",
   "metadata": {},
   "source": [
    "- The train set explains obtained an $R^2$ of 0.91 and test set got an $R^2$ of 0.86.\n",
    "- There is not a huge difference between train and test set, this signifies that the model is a good fit for data, because it performed well when exposed outside of the training data ."
   ]
  },
  {
   "cell_type": "markdown",
   "metadata": {},
   "source": [
    "Now let us calculate the RMSE scores for train and test data sets"
   ]
  },
  {
   "cell_type": "code",
   "execution_count": 52,
   "metadata": {},
   "outputs": [
    {
     "name": "stdout",
     "output_type": "stream",
     "text": [
      "Root mean squared error for train data is: 22779.564\n",
      "Root mean sqaured error for test data is: 27697.568\n"
     ]
    }
   ],
   "source": [
    "RMSE_train = sqrt(np.mean((Y_train - lasso_reg.predict(X_train))**2))\n",
    "RMSE_test = sqrt(np.mean((Y_test - lasso_reg.predict(X_test))**2))\n",
    "print('Root mean squared error for train data is: %.3f' %(RMSE_train))\n",
    "print('Root mean sqaured error for test data is: %.3f' %(RMSE_test))"
   ]
  },
  {
   "cell_type": "markdown",
   "metadata": {},
   "source": [
    "Let us see the best alpha parameter for Lasso Regression"
   ]
  },
  {
   "cell_type": "code",
   "execution_count": 53,
   "metadata": {},
   "outputs": [
    {
     "name": "stdout",
     "output_type": "stream",
     "text": [
      "The estimated best regularization parameter is: 5.0\n"
     ]
    }
   ],
   "source": [
    "alpha_lasso_cv = lasso_reg.alpha_\n",
    "print('The estimated best regularization parameter is: %.1f' %(alpha_lasso_cv))"
   ]
  },
  {
   "cell_type": "markdown",
   "metadata": {},
   "source": [
    "**Regression Plot**\n",
    "\n",
    "Let us plot a regression plot to see how good of a fit is our regression line on the data"
   ]
  },
  {
   "cell_type": "code",
   "execution_count": 54,
   "metadata": {},
   "outputs": [
    {
     "data": {
      "text/plain": [
       "Text(0.5, 1.0, 'Regression Plot for Actual vs Predicted Values')"
      ]
     },
     "execution_count": 54,
     "metadata": {},
     "output_type": "execute_result"
    },
    {
     "data": {
      "image/png": "[encoded data removed]",
      "text/plain": [
       "<Figure size 432x288 with 1 Axes>"
      ]
     },
     "metadata": {},
     "output_type": "display_data"
    }
   ],
   "source": [
    "# Regression plot\n",
    "g = sns.regplot(x=lasso_reg.predict(X_test), y=Y_test, fit_reg=True)\n",
    "g.set(xlabel='Predicted House Prices($)', ylabel='Actual House Prices($)', title='Model Predictions')\n",
    "plt.title('Regression Plot for Actual vs Predicted Values')"
   ]
  },
  {
   "cell_type": "markdown",
   "metadata": {},
   "source": [
    "It is quite evident that the regression line is a good fit to our data."
   ]
  },
  {
   "cell_type": "markdown",
   "metadata": {},
   "source": [
    "**Residual Plots**\n",
    "\n",
    "I plotted residual graphs for train, test seperatley and together using lasso regression."
   ]
  },
  {
   "cell_type": "code",
   "execution_count": 55,
   "metadata": {},
   "outputs": [
    {
     "data": {
      "text/plain": [
       "Text(0.5, 1.0, 'Residual Plot for train data')"
      ]
     },
     "execution_count": 55,
     "metadata": {},
     "output_type": "execute_result"
    },
    {
     "data": {
      "image/png": "[encoded data removed]",
      "text/plain": [
       "<Figure size 432x288 with 1 Axes>"
      ]
     },
     "metadata": {},
     "output_type": "display_data"
    }
   ],
   "source": [
    "sns.residplot(x=lasso_reg.predict(X_train), y=Y_train, lowess=True)\n",
    "plt.title('Residual Plot for train data')"
   ]
  },
  {
   "cell_type": "markdown",
   "metadata": {},
   "source": [
    "The graph looks very much similar to what was produced by Linear Regression and Ridge Regression. The data lies within the -50,000 to +50,000 range where most of the data lies close to the reference line."
   ]
  },
  {
   "cell_type": "code",
   "execution_count": 56,
   "metadata": {},
   "outputs": [
    {
     "data": {
      "text/plain": [
       "Text(0.5, 1.0, 'Residual Plot for test data')"
      ]
     },
     "execution_count": 56,
     "metadata": {},
     "output_type": "execute_result"
    },
    {
     "data": {
      "image/png": "[encoded data removed]",
      "text/plain": [
       "<Figure size 432x288 with 1 Axes>"
      ]
     },
     "metadata": {},
     "output_type": "display_data"
    }
   ],
   "source": [
    "sns.residplot(x=lasso_reg.predict(X_test), y=Y_test, lowess=True)\n",
    "plt.title('Residual Plot for test data')"
   ]
  },
  {
   "cell_type": "markdown",
   "metadata": {},
   "source": [
    "The data points are scattered around the reference line. There are few outliers, but most of the data lies with the expected -50,000 to +50,000 range."
   ]
  },
  {
   "cell_type": "code",
   "execution_count": 57,
   "metadata": {},
   "outputs": [
    {
     "data": {
      "text/plain": [
       "Text(0, 0.5, 'Residuals')"
      ]
     },
     "execution_count": 57,
     "metadata": {},
     "output_type": "execute_result"
    },
    {
     "data": {
      "image/png": "[encoded data removed]",
      "text/plain": [
       "<Figure size 432x288 with 1 Axes>"
      ]
     },
     "metadata": {},
     "output_type": "display_data"
    }
   ],
   "source": [
    "plt.scatter(lasso_reg.predict(X_train), lasso_reg.predict(X_train) - Y_train, c='b', s=40, alpha=0.5)\n",
    "plt.scatter(lasso_reg.predict(X_test), lasso_reg.predict(X_test) - Y_test, c='g', s=40)\n",
    "plt.hlines(y = 0, xmin=0, xmax = 50)\n",
    "plt.title(\"Linear regression with Lasso regularization for train (blue) and test (green) data\")\n",
    "plt.xlabel(\"Predicted values\")\n",
    "plt.ylabel('Residuals')"
   ]
  },
  {
   "cell_type": "markdown",
   "metadata": {},
   "source": [
    "From the graph the train and test data points are close to each other indicating that the model is performing well on the test data too."
   ]
  },
  {
   "cell_type": "markdown",
   "metadata": {},
   "source": [
    "Let us see what coefficients does lasso regression produce and what are the top features that influence Sale price."
   ]
  },
  {
   "cell_type": "code",
   "execution_count": 58,
   "metadata": {},
   "outputs": [
    {
     "data": {
      "text/html": [
       "<div>\n",
       "<style scoped>\n",
       "    .dataframe tbody tr th:only-of-type {\n",
       "        vertical-align: middle;\n",
       "    }\n",
       "\n",
       "    .dataframe tbody tr th {\n",
       "        vertical-align: top;\n",
       "    }\n",
       "\n",
       "    .dataframe thead th {\n",
       "        text-align: right;\n",
       "    }\n",
       "</style>\n",
       "<table border=\"1\" class=\"dataframe\">\n",
       "  <thead>\n",
       "    <tr style=\"text-align: right;\">\n",
       "      <th></th>\n",
       "      <th>Features</th>\n",
       "      <th>Estimated_Coefficients</th>\n",
       "    </tr>\n",
       "  </thead>\n",
       "  <tbody>\n",
       "    <tr>\n",
       "      <th>16</th>\n",
       "      <td>BsmtFullBath</td>\n",
       "      <td>27543.366659</td>\n",
       "    </tr>\n",
       "    <tr>\n",
       "      <th>26</th>\n",
       "      <td>GarageArea</td>\n",
       "      <td>7793.412244</td>\n",
       "    </tr>\n",
       "    <tr>\n",
       "      <th>4</th>\n",
       "      <td>OverallCond</td>\n",
       "      <td>7030.263075</td>\n",
       "    </tr>\n",
       "    <tr>\n",
       "      <th>5</th>\n",
       "      <td>YearBuilt</td>\n",
       "      <td>6347.293367</td>\n",
       "    </tr>\n",
       "    <tr>\n",
       "      <th>33</th>\n",
       "      <td>MiscVal</td>\n",
       "      <td>5388.477892</td>\n",
       "    </tr>\n",
       "    <tr>\n",
       "      <th>19</th>\n",
       "      <td>HalfBath</td>\n",
       "      <td>4724.026953</td>\n",
       "    </tr>\n",
       "    <tr>\n",
       "      <th>17</th>\n",
       "      <td>BsmtHalfBath</td>\n",
       "      <td>3819.782066</td>\n",
       "    </tr>\n",
       "    <tr>\n",
       "      <th>12</th>\n",
       "      <td>1stFlrSF</td>\n",
       "      <td>2812.654511</td>\n",
       "    </tr>\n",
       "    <tr>\n",
       "      <th>28</th>\n",
       "      <td>OpenPorchSF</td>\n",
       "      <td>2770.465911</td>\n",
       "    </tr>\n",
       "    <tr>\n",
       "      <th>32</th>\n",
       "      <td>PoolArea</td>\n",
       "      <td>2177.601659</td>\n",
       "    </tr>\n",
       "    <tr>\n",
       "      <th>3</th>\n",
       "      <td>OverallQual</td>\n",
       "      <td>2036.323756</td>\n",
       "    </tr>\n",
       "    <tr>\n",
       "      <th>23</th>\n",
       "      <td>Fireplaces</td>\n",
       "      <td>1484.841310</td>\n",
       "    </tr>\n",
       "    <tr>\n",
       "      <th>31</th>\n",
       "      <td>ScreenPorch</td>\n",
       "      <td>1345.531465</td>\n",
       "    </tr>\n",
       "    <tr>\n",
       "      <th>20</th>\n",
       "      <td>BedroomAbvGr</td>\n",
       "      <td>1004.078631</td>\n",
       "    </tr>\n",
       "    <tr>\n",
       "      <th>6</th>\n",
       "      <td>YearRemodAdd</td>\n",
       "      <td>954.172209</td>\n",
       "    </tr>\n",
       "    <tr>\n",
       "      <th>7</th>\n",
       "      <td>MasVnrArea</td>\n",
       "      <td>834.189873</td>\n",
       "    </tr>\n",
       "    <tr>\n",
       "      <th>10</th>\n",
       "      <td>BsmtUnfSF</td>\n",
       "      <td>710.037843</td>\n",
       "    </tr>\n",
       "    <tr>\n",
       "      <th>25</th>\n",
       "      <td>GarageCars</td>\n",
       "      <td>515.741854</td>\n",
       "    </tr>\n",
       "    <tr>\n",
       "      <th>18</th>\n",
       "      <td>FullBath</td>\n",
       "      <td>484.567169</td>\n",
       "    </tr>\n",
       "    <tr>\n",
       "      <th>9</th>\n",
       "      <td>BsmtFinSF2</td>\n",
       "      <td>475.172687</td>\n",
       "    </tr>\n",
       "    <tr>\n",
       "      <th>29</th>\n",
       "      <td>EnclosedPorch</td>\n",
       "      <td>441.453000</td>\n",
       "    </tr>\n",
       "    <tr>\n",
       "      <th>8</th>\n",
       "      <td>BsmtFinSF1</td>\n",
       "      <td>324.446178</td>\n",
       "    </tr>\n",
       "    <tr>\n",
       "      <th>0</th>\n",
       "      <td>MSSubClass</td>\n",
       "      <td>1.031364</td>\n",
       "    </tr>\n",
       "    <tr>\n",
       "      <th>27</th>\n",
       "      <td>WoodDeckSF</td>\n",
       "      <td>0.000000</td>\n",
       "    </tr>\n",
       "    <tr>\n",
       "      <th>13</th>\n",
       "      <td>2ndFlrSF</td>\n",
       "      <td>0.000000</td>\n",
       "    </tr>\n",
       "    <tr>\n",
       "      <th>2</th>\n",
       "      <td>LotArea</td>\n",
       "      <td>-123.694529</td>\n",
       "    </tr>\n",
       "    <tr>\n",
       "      <th>11</th>\n",
       "      <td>TotalBsmtSF</td>\n",
       "      <td>-308.857380</td>\n",
       "    </tr>\n",
       "    <tr>\n",
       "      <th>30</th>\n",
       "      <td>3SsnPorch</td>\n",
       "      <td>-518.910326</td>\n",
       "    </tr>\n",
       "    <tr>\n",
       "      <th>34</th>\n",
       "      <td>MoSold</td>\n",
       "      <td>-741.040073</td>\n",
       "    </tr>\n",
       "    <tr>\n",
       "      <th>21</th>\n",
       "      <td>KitchenAbvGr</td>\n",
       "      <td>-963.812487</td>\n",
       "    </tr>\n",
       "    <tr>\n",
       "      <th>35</th>\n",
       "      <td>YrSold</td>\n",
       "      <td>-1353.995710</td>\n",
       "    </tr>\n",
       "    <tr>\n",
       "      <th>22</th>\n",
       "      <td>TotRmsAbvGrd</td>\n",
       "      <td>-1487.805564</td>\n",
       "    </tr>\n",
       "    <tr>\n",
       "      <th>14</th>\n",
       "      <td>LowQualFinSF</td>\n",
       "      <td>-1523.417898</td>\n",
       "    </tr>\n",
       "    <tr>\n",
       "      <th>15</th>\n",
       "      <td>GrLivArea</td>\n",
       "      <td>-1994.352483</td>\n",
       "    </tr>\n",
       "    <tr>\n",
       "      <th>1</th>\n",
       "      <td>LotFrontage</td>\n",
       "      <td>-3655.544083</td>\n",
       "    </tr>\n",
       "    <tr>\n",
       "      <th>24</th>\n",
       "      <td>GarageYrBlt</td>\n",
       "      <td>-4391.244859</td>\n",
       "    </tr>\n",
       "  </tbody>\n",
       "</table>\n",
       "</div>"
      ],
      "text/plain": [
       "         Features  Estimated_Coefficients\n",
       "16   BsmtFullBath            27543.366659\n",
       "26     GarageArea             7793.412244\n",
       "4     OverallCond             7030.263075\n",
       "5       YearBuilt             6347.293367\n",
       "33        MiscVal             5388.477892\n",
       "19       HalfBath             4724.026953\n",
       "17   BsmtHalfBath             3819.782066\n",
       "12       1stFlrSF             2812.654511\n",
       "28    OpenPorchSF             2770.465911\n",
       "32       PoolArea             2177.601659\n",
       "3     OverallQual             2036.323756\n",
       "23     Fireplaces             1484.841310\n",
       "31    ScreenPorch             1345.531465\n",
       "20   BedroomAbvGr             1004.078631\n",
       "6    YearRemodAdd              954.172209\n",
       "7      MasVnrArea              834.189873\n",
       "10      BsmtUnfSF              710.037843\n",
       "25     GarageCars              515.741854\n",
       "18       FullBath              484.567169\n",
       "9      BsmtFinSF2              475.172687\n",
       "29  EnclosedPorch              441.453000\n",
       "8      BsmtFinSF1              324.446178\n",
       "0      MSSubClass                1.031364\n",
       "27     WoodDeckSF                0.000000\n",
       "13       2ndFlrSF                0.000000\n",
       "2         LotArea             -123.694529\n",
       "11    TotalBsmtSF             -308.857380\n",
       "30      3SsnPorch             -518.910326\n",
       "34         MoSold             -741.040073\n",
       "21   KitchenAbvGr             -963.812487\n",
       "35         YrSold            -1353.995710\n",
       "22   TotRmsAbvGrd            -1487.805564\n",
       "14   LowQualFinSF            -1523.417898\n",
       "15      GrLivArea            -1994.352483\n",
       "1     LotFrontage            -3655.544083\n",
       "24    GarageYrBlt            -4391.244859"
      ]
     },
     "execution_count": 58,
     "metadata": {},
     "output_type": "execute_result"
    }
   ],
   "source": [
    "# Features and thier respective coefficients\n",
    "lasso_coeffs_df = pd.DataFrame(list(zip(X.columns, lasso_reg.coef_)), columns = ['Features', 'Estimated_Coefficients'])\n",
    "lasso_coeffs_df.sort_values(by='Estimated_Coefficients', ascending=False)"
   ]
  },
  {
   "cell_type": "code",
   "execution_count": 59,
   "metadata": {},
   "outputs": [
    {
     "data": {
      "text/html": [
       "<div>\n",
       "<style scoped>\n",
       "    .dataframe tbody tr th:only-of-type {\n",
       "        vertical-align: middle;\n",
       "    }\n",
       "\n",
       "    .dataframe tbody tr th {\n",
       "        vertical-align: top;\n",
       "    }\n",
       "\n",
       "    .dataframe thead th {\n",
       "        text-align: right;\n",
       "    }\n",
       "</style>\n",
       "<table border=\"1\" class=\"dataframe\">\n",
       "  <thead>\n",
       "    <tr style=\"text-align: right;\">\n",
       "      <th></th>\n",
       "      <th>Features</th>\n",
       "      <th>Estimated_Coefficients</th>\n",
       "    </tr>\n",
       "  </thead>\n",
       "  <tbody>\n",
       "    <tr>\n",
       "      <th>16</th>\n",
       "      <td>BsmtFullBath</td>\n",
       "      <td>27543.366659</td>\n",
       "    </tr>\n",
       "    <tr>\n",
       "      <th>26</th>\n",
       "      <td>GarageArea</td>\n",
       "      <td>7793.412244</td>\n",
       "    </tr>\n",
       "    <tr>\n",
       "      <th>4</th>\n",
       "      <td>OverallCond</td>\n",
       "      <td>7030.263075</td>\n",
       "    </tr>\n",
       "    <tr>\n",
       "      <th>5</th>\n",
       "      <td>YearBuilt</td>\n",
       "      <td>6347.293367</td>\n",
       "    </tr>\n",
       "    <tr>\n",
       "      <th>33</th>\n",
       "      <td>MiscVal</td>\n",
       "      <td>5388.477892</td>\n",
       "    </tr>\n",
       "    <tr>\n",
       "      <th>19</th>\n",
       "      <td>HalfBath</td>\n",
       "      <td>4724.026953</td>\n",
       "    </tr>\n",
       "    <tr>\n",
       "      <th>17</th>\n",
       "      <td>BsmtHalfBath</td>\n",
       "      <td>3819.782066</td>\n",
       "    </tr>\n",
       "    <tr>\n",
       "      <th>12</th>\n",
       "      <td>1stFlrSF</td>\n",
       "      <td>2812.654511</td>\n",
       "    </tr>\n",
       "    <tr>\n",
       "      <th>28</th>\n",
       "      <td>OpenPorchSF</td>\n",
       "      <td>2770.465911</td>\n",
       "    </tr>\n",
       "    <tr>\n",
       "      <th>32</th>\n",
       "      <td>PoolArea</td>\n",
       "      <td>2177.601659</td>\n",
       "    </tr>\n",
       "    <tr>\n",
       "      <th>3</th>\n",
       "      <td>OverallQual</td>\n",
       "      <td>2036.323756</td>\n",
       "    </tr>\n",
       "    <tr>\n",
       "      <th>23</th>\n",
       "      <td>Fireplaces</td>\n",
       "      <td>1484.841310</td>\n",
       "    </tr>\n",
       "    <tr>\n",
       "      <th>31</th>\n",
       "      <td>ScreenPorch</td>\n",
       "      <td>1345.531465</td>\n",
       "    </tr>\n",
       "    <tr>\n",
       "      <th>20</th>\n",
       "      <td>BedroomAbvGr</td>\n",
       "      <td>1004.078631</td>\n",
       "    </tr>\n",
       "    <tr>\n",
       "      <th>6</th>\n",
       "      <td>YearRemodAdd</td>\n",
       "      <td>954.172209</td>\n",
       "    </tr>\n",
       "    <tr>\n",
       "      <th>7</th>\n",
       "      <td>MasVnrArea</td>\n",
       "      <td>834.189873</td>\n",
       "    </tr>\n",
       "    <tr>\n",
       "      <th>10</th>\n",
       "      <td>BsmtUnfSF</td>\n",
       "      <td>710.037843</td>\n",
       "    </tr>\n",
       "    <tr>\n",
       "      <th>25</th>\n",
       "      <td>GarageCars</td>\n",
       "      <td>515.741854</td>\n",
       "    </tr>\n",
       "    <tr>\n",
       "      <th>18</th>\n",
       "      <td>FullBath</td>\n",
       "      <td>484.567169</td>\n",
       "    </tr>\n",
       "    <tr>\n",
       "      <th>9</th>\n",
       "      <td>BsmtFinSF2</td>\n",
       "      <td>475.172687</td>\n",
       "    </tr>\n",
       "    <tr>\n",
       "      <th>29</th>\n",
       "      <td>EnclosedPorch</td>\n",
       "      <td>441.453000</td>\n",
       "    </tr>\n",
       "    <tr>\n",
       "      <th>8</th>\n",
       "      <td>BsmtFinSF1</td>\n",
       "      <td>324.446178</td>\n",
       "    </tr>\n",
       "    <tr>\n",
       "      <th>0</th>\n",
       "      <td>MSSubClass</td>\n",
       "      <td>1.031364</td>\n",
       "    </tr>\n",
       "    <tr>\n",
       "      <th>27</th>\n",
       "      <td>WoodDeckSF</td>\n",
       "      <td>0.000000</td>\n",
       "    </tr>\n",
       "    <tr>\n",
       "      <th>13</th>\n",
       "      <td>2ndFlrSF</td>\n",
       "      <td>0.000000</td>\n",
       "    </tr>\n",
       "  </tbody>\n",
       "</table>\n",
       "</div>"
      ],
      "text/plain": [
       "         Features  Estimated_Coefficients\n",
       "16   BsmtFullBath            27543.366659\n",
       "26     GarageArea             7793.412244\n",
       "4     OverallCond             7030.263075\n",
       "5       YearBuilt             6347.293367\n",
       "33        MiscVal             5388.477892\n",
       "19       HalfBath             4724.026953\n",
       "17   BsmtHalfBath             3819.782066\n",
       "12       1stFlrSF             2812.654511\n",
       "28    OpenPorchSF             2770.465911\n",
       "32       PoolArea             2177.601659\n",
       "3     OverallQual             2036.323756\n",
       "23     Fireplaces             1484.841310\n",
       "31    ScreenPorch             1345.531465\n",
       "20   BedroomAbvGr             1004.078631\n",
       "6    YearRemodAdd              954.172209\n",
       "7      MasVnrArea              834.189873\n",
       "10      BsmtUnfSF              710.037843\n",
       "25     GarageCars              515.741854\n",
       "18       FullBath              484.567169\n",
       "9      BsmtFinSF2              475.172687\n",
       "29  EnclosedPorch              441.453000\n",
       "8      BsmtFinSF1              324.446178\n",
       "0      MSSubClass                1.031364\n",
       "27     WoodDeckSF                0.000000\n",
       "13       2ndFlrSF                0.000000"
      ]
     },
     "execution_count": 59,
     "metadata": {},
     "output_type": "execute_result"
    }
   ],
   "source": [
    "lasso_pos_coeffs_df = lasso_coeffs_df[(lasso_coeffs_df['Estimated_Coefficients'])>=0].sort_values(by='Estimated_Coefficients', ascending=False)\n",
    "lasso_pos_coeffs_df"
   ]
  },
  {
   "cell_type": "markdown",
   "metadata": {},
   "source": [
    "As we can see the features changed from what we saw in Ridge rgression, Lasso results show added new features such as MasVnrArea - type of material used in external of  the house (brick/ stone etc.),  GarageYrBlt - garage biult year. The other features remain same as the other regression models i.e. 2ndFlrSF  LowQualFinSF OverallCond.\n",
    "\n",
    "The results of Lasso regression (MasVnrArea and GarageYrBlt) seem to be unrealistic in real estate market. "
   ]
  },
  {
   "cell_type": "code",
   "execution_count": 60,
   "metadata": {},
   "outputs": [
    {
     "data": {
      "text/html": [
       "<div>\n",
       "<style scoped>\n",
       "    .dataframe tbody tr th:only-of-type {\n",
       "        vertical-align: middle;\n",
       "    }\n",
       "\n",
       "    .dataframe tbody tr th {\n",
       "        vertical-align: top;\n",
       "    }\n",
       "\n",
       "    .dataframe thead th {\n",
       "        text-align: right;\n",
       "    }\n",
       "</style>\n",
       "<table border=\"1\" class=\"dataframe\">\n",
       "  <thead>\n",
       "    <tr style=\"text-align: right;\">\n",
       "      <th></th>\n",
       "      <th>Features</th>\n",
       "      <th>Estimated_Coefficients</th>\n",
       "    </tr>\n",
       "  </thead>\n",
       "  <tbody>\n",
       "    <tr>\n",
       "      <th>24</th>\n",
       "      <td>GarageYrBlt</td>\n",
       "      <td>-4391.244859</td>\n",
       "    </tr>\n",
       "    <tr>\n",
       "      <th>1</th>\n",
       "      <td>LotFrontage</td>\n",
       "      <td>-3655.544083</td>\n",
       "    </tr>\n",
       "    <tr>\n",
       "      <th>15</th>\n",
       "      <td>GrLivArea</td>\n",
       "      <td>-1994.352483</td>\n",
       "    </tr>\n",
       "    <tr>\n",
       "      <th>14</th>\n",
       "      <td>LowQualFinSF</td>\n",
       "      <td>-1523.417898</td>\n",
       "    </tr>\n",
       "    <tr>\n",
       "      <th>22</th>\n",
       "      <td>TotRmsAbvGrd</td>\n",
       "      <td>-1487.805564</td>\n",
       "    </tr>\n",
       "    <tr>\n",
       "      <th>35</th>\n",
       "      <td>YrSold</td>\n",
       "      <td>-1353.995710</td>\n",
       "    </tr>\n",
       "    <tr>\n",
       "      <th>21</th>\n",
       "      <td>KitchenAbvGr</td>\n",
       "      <td>-963.812487</td>\n",
       "    </tr>\n",
       "    <tr>\n",
       "      <th>34</th>\n",
       "      <td>MoSold</td>\n",
       "      <td>-741.040073</td>\n",
       "    </tr>\n",
       "    <tr>\n",
       "      <th>30</th>\n",
       "      <td>3SsnPorch</td>\n",
       "      <td>-518.910326</td>\n",
       "    </tr>\n",
       "    <tr>\n",
       "      <th>11</th>\n",
       "      <td>TotalBsmtSF</td>\n",
       "      <td>-308.857380</td>\n",
       "    </tr>\n",
       "    <tr>\n",
       "      <th>2</th>\n",
       "      <td>LotArea</td>\n",
       "      <td>-123.694529</td>\n",
       "    </tr>\n",
       "  </tbody>\n",
       "</table>\n",
       "</div>"
      ],
      "text/plain": [
       "        Features  Estimated_Coefficients\n",
       "24   GarageYrBlt            -4391.244859\n",
       "1    LotFrontage            -3655.544083\n",
       "15     GrLivArea            -1994.352483\n",
       "14  LowQualFinSF            -1523.417898\n",
       "22  TotRmsAbvGrd            -1487.805564\n",
       "35        YrSold            -1353.995710\n",
       "21  KitchenAbvGr             -963.812487\n",
       "34        MoSold             -741.040073\n",
       "30     3SsnPorch             -518.910326\n",
       "11   TotalBsmtSF             -308.857380\n",
       "2        LotArea             -123.694529"
      ]
     },
     "execution_count": 60,
     "metadata": {},
     "output_type": "execute_result"
    }
   ],
   "source": [
    "lasso_neg_coeffs_df = lasso_coeffs_df[(lasso_coeffs_df['Estimated_Coefficients'])<0].sort_values(by='Estimated_Coefficients', ascending=True)\n",
    "lasso_neg_coeffs_df"
   ]
  },
  {
   "cell_type": "markdown",
   "metadata": {},
   "source": [
    "Lasso produced slightly differnt results from Ridge with order of features changed and adding features like Fireplaces and Year built."
   ]
  },
  {
   "cell_type": "markdown",
   "metadata": {},
   "source": [
    "**GridSearchCV**\n",
    "\n",
    "Let us explore the **best hyper parameter (alpha)** and it's respective **score** using **GridSearchCV**"
   ]
  },
  {
   "cell_type": "code",
   "execution_count": 61,
   "metadata": {},
   "outputs": [
    {
     "data": {
      "text/plain": [
       "Lasso(alpha=1.0, copy_X=True, fit_intercept=True, max_iter=50000,\n",
       "   normalize=False, positive=False, precompute=False, random_state=None,\n",
       "   selection='cyclic', tol=0.1, warm_start=False)"
      ]
     },
     "execution_count": 61,
     "metadata": {},
     "output_type": "execute_result"
    }
   ],
   "source": [
    "# Create an object \n",
    "lasso = Lasso(max_iter = 50000, tol=0.1)\n",
    "\n",
    "# Fit the model on the trainng data\n",
    "lasso.fit(X_train, Y_train)"
   ]
  },
  {
   "cell_type": "markdown",
   "metadata": {},
   "source": [
    "**Apply GridSearchCV to Ridge Regression find out the alpha value and respective R square**"
   ]
  },
  {
   "cell_type": "code",
   "execution_count": 62,
   "metadata": {},
   "outputs": [
    {
     "name": "stdout",
     "output_type": "stream",
     "text": [
      "Best alpha value is: 10\n",
      "Score when alpha = 10: is 0.8198651958206763 \n",
      "\n"
     ]
    }
   ],
   "source": [
    "# Import library to find out score (R2)\n",
    "from sklearn.metrics import r2_score\n",
    "\n",
    "# Define an array of alpha values\n",
    "alphas = [1e-15, 1e-10, 1e-8, 1e-5,1e-4, 1e-3,1e-2, 1, 5, 10]\n",
    "\n",
    "# Define GridSearchCV \n",
    "lasso_grid = GridSearchCV(estimator = lasso, param_grid = dict(alpha=alphas), scoring='r2')\n",
    "\n",
    "# Fit the training model \n",
    "lasso_grid.fit(X_train, Y_train)\n",
    "\n",
    "# Get the best alpha value and it's respective R2 score\n",
    "print('Best alpha value is: %s' % lasso_grid.best_params_['alpha'])\n",
    "print('Score when alpha = %s: is %s \\n' % (lasso_grid.best_params_['alpha'],r2_score(lasso_grid.predict(X_test), Y_test)))"
   ]
  },
  {
   "cell_type": "markdown",
   "metadata": {},
   "source": [
    "Let us compare the R2 scores for train and test data using GridSearchCV"
   ]
  },
  {
   "cell_type": "code",
   "execution_count": 63,
   "metadata": {},
   "outputs": [
    {
     "name": "stdout",
     "output_type": "stream",
     "text": [
      "R squared for train data is: 0.898\n",
      "R squared for test data is: 0.820\n"
     ]
    }
   ],
   "source": [
    "R2_lasso_grid_train = r2_score(lasso_grid.predict(X_train), Y_train)\n",
    "R2_lasso_grid_test = r2_score(lasso_grid.predict(X_test), Y_test)\n",
    "print('R squared for train data is: %.3f' %(R2_lasso_grid_train))\n",
    "print('R squared for test data is: %.3f' %(R2_lasso_grid_test))"
   ]
  },
  {
   "cell_type": "markdown",
   "metadata": {},
   "source": [
    "**Let's repeat the same using Lasso & GridSearchCV process to find out RMSE values for train and test data sets**"
   ]
  },
  {
   "cell_type": "code",
   "execution_count": 64,
   "metadata": {},
   "outputs": [
    {
     "name": "stdout",
     "output_type": "stream",
     "text": [
      "Best alpha value is: 10\n",
      "Accuracy from alpha = 10: 33835.537049658975 \n",
      "\n"
     ]
    }
   ],
   "source": [
    "# Import library to find out score MSE\n",
    "from sklearn.metrics import mean_squared_error\n",
    "\n",
    "# Define an array of alpha values\n",
    "alphas = [1e-15, 1e-10, 1e-8, 1e-5,1e-4, 1e-3,1e-2, 1, 5, 10]\n",
    "\n",
    "# Define GridSearchCV \n",
    "lasso_grid = GridSearchCV(estimator = lasso, param_grid = dict(alpha=alphas), scoring='neg_mean_squared_error')\n",
    "\n",
    "# Fit the training model\n",
    "lasso_grid.fit(X_train, Y_train)\n",
    "\n",
    "# Get the best alpha value and it's respective RMSE score\n",
    "print(\"Best alpha value is: %s\" % lasso_grid.best_params_[\"alpha\"])\n",
    "print(\"Accuracy from alpha = %s: %s \\n\" % (lasso_grid.best_params_[\"alpha\"],\n",
    "                                           sqrt(mean_squared_error(lasso_grid.predict(X_test), Y_test))))"
   ]
  },
  {
   "cell_type": "markdown",
   "metadata": {},
   "source": [
    "Let us compare the RMSE scores for train and test data using GridSearchCV"
   ]
  },
  {
   "cell_type": "code",
   "execution_count": 65,
   "metadata": {},
   "outputs": [
    {
     "name": "stdout",
     "output_type": "stream",
     "text": [
      "Root mean squared error for train data is: 25386.622\n",
      "Root mean sqaured error for test data is: 33835.537\n"
     ]
    }
   ],
   "source": [
    "RMSE_lasso_grid_train = sqrt(mean_squared_error(lasso_grid.predict(X_train), Y_train))\n",
    "RMSE_lasso_grid_test = sqrt(mean_squared_error(lasso_grid.predict(X_test), Y_test))\n",
    "print('Root mean squared error for train data is: %.3f' %(RMSE_lasso_grid_train))\n",
    "print('Root mean sqaured error for test data is: %.3f' %(RMSE_lasso_grid_test))"
   ]
  },
  {
   "cell_type": "markdown",
   "metadata": {},
   "source": [
    "**We can conclude that the best alpha value is 10 for Lasso Regression**"
   ]
  },
  {
   "cell_type": "markdown",
   "metadata": {},
   "source": [
    "# Comparing the models"
   ]
  },
  {
   "cell_type": "markdown",
   "metadata": {},
   "source": [
    "Let us compare all the models and evaluate one model that is best suited to the data, this can be acheived by comparing the scores of train and test sets for each model. "
   ]
  },
  {
   "cell_type": "code",
   "execution_count": 66,
   "metadata": {},
   "outputs": [
    {
     "data": {
      "text/html": [
       "<div>\n",
       "<style scoped>\n",
       "    .dataframe tbody tr th:only-of-type {\n",
       "        vertical-align: middle;\n",
       "    }\n",
       "\n",
       "    .dataframe tbody tr th {\n",
       "        vertical-align: top;\n",
       "    }\n",
       "\n",
       "    .dataframe thead th {\n",
       "        text-align: right;\n",
       "    }\n",
       "</style>\n",
       "<table border=\"1\" class=\"dataframe\">\n",
       "  <thead>\n",
       "    <tr style=\"text-align: right;\">\n",
       "      <th></th>\n",
       "      <th>Index</th>\n",
       "      <th>RMSE_train</th>\n",
       "      <th>RMSE_test</th>\n",
       "      <th>R2_train</th>\n",
       "      <th>R2_test</th>\n",
       "      <th>Best_alpha</th>\n",
       "    </tr>\n",
       "  </thead>\n",
       "  <tbody>\n",
       "    <tr>\n",
       "      <th>0</th>\n",
       "      <td>Linear Reg</td>\n",
       "      <td>20426.160</td>\n",
       "      <td>30352.931</td>\n",
       "      <td>0.936</td>\n",
       "      <td>0.843</td>\n",
       "      <td>N/A</td>\n",
       "    </tr>\n",
       "    <tr>\n",
       "      <th>1</th>\n",
       "      <td>RidgeCV Reg</td>\n",
       "      <td>25725.420</td>\n",
       "      <td>25777.429</td>\n",
       "      <td>0.898</td>\n",
       "      <td>0.887</td>\n",
       "      <td>10</td>\n",
       "    </tr>\n",
       "    <tr>\n",
       "      <th>2</th>\n",
       "      <td>LassoCV Reg</td>\n",
       "      <td>26498.918</td>\n",
       "      <td>25777.429</td>\n",
       "      <td>0.927</td>\n",
       "      <td>0.880</td>\n",
       "      <td>1</td>\n",
       "    </tr>\n",
       "    <tr>\n",
       "      <th>3</th>\n",
       "      <td>Ridge_GridSearchCV</td>\n",
       "      <td>25725.420</td>\n",
       "      <td>25777.429</td>\n",
       "      <td>0.882</td>\n",
       "      <td>0.873</td>\n",
       "      <td>10</td>\n",
       "    </tr>\n",
       "    <tr>\n",
       "      <th>4</th>\n",
       "      <td>Lasso_GridSearchCV</td>\n",
       "      <td>25386.622</td>\n",
       "      <td>33835.537</td>\n",
       "      <td>0.898</td>\n",
       "      <td>0.820</td>\n",
       "      <td>10</td>\n",
       "    </tr>\n",
       "  </tbody>\n",
       "</table>\n",
       "</div>"
      ],
      "text/plain": [
       "                Index  RMSE_train  RMSE_test  R2_train  R2_test Best_alpha\n",
       "0          Linear Reg   20426.160  30352.931     0.936    0.843        N/A\n",
       "1         RidgeCV Reg   25725.420  25777.429     0.898    0.887         10\n",
       "2         LassoCV Reg   26498.918  25777.429     0.927    0.880          1\n",
       "3  Ridge_GridSearchCV   25725.420  25777.429     0.882    0.873         10\n",
       "4  Lasso_GridSearchCV   25386.622  33835.537     0.898    0.820         10"
      ]
     },
     "execution_count": 66,
     "metadata": {},
     "output_type": "execute_result"
    }
   ],
   "source": [
    "from collections import OrderedDict\n",
    "# Create a dictionary to store the train and test scores, best alpha values\n",
    "scores = {'Index': ['Linear Reg','RidgeCV Reg','LassoCV Reg', 'Ridge_GridSearchCV', 'Lasso_GridSearchCV'],\n",
    "         'RMSE_train': [20426.160, 25725.420, 26498.918, 25725.420, 25386.622],\n",
    "         'RMSE_test': [30352.931, 25777.429, 25777.429, 25777.429, 33835.537],\n",
    "         'R2_train': [0.936, 0.898, 0.927, 0.882,0.898 ],\n",
    "         'R2_test': [0.843, 0.887, 0.880, 0.873, 0.820],\n",
    "         'Best_alpha': ['N/A', 10.0, 1.0, 10.0, 10.0]}\n",
    "scores = OrderedDict(scores)\n",
    "\n",
    "# Create a dataframe from the dictionary\n",
    "reg_models_scores = pd.DataFrame.from_dict(scores)\n",
    "reg_models_scores"
   ]
  },
  {
   "cell_type": "markdown",
   "metadata": {},
   "source": [
    "The scores produced by Ridge Regression doesn't vary much, both RMSE and R2 of train and test data sets are not far from each other. The same is the case with Ridge using GridSearch Cross Validation. \n",
    "\n",
    "Therefore by lookig at the scores, regression plots and residual plots I feel that Ridge Regression using Cross Validation is the best model for the data. Having said that let us look at the features that are positively and negatively correlated with the Sale Price using Ridge Cross Validation method. \n",
    "\n",
    "The top ten important features that are positively correlated with Sale Price are:\n",
    "1. A full bath in Basement\n",
    "2. Overall Condition of the house\n",
    "3. Low quality finished area of the house (sqft)\n",
    "4. Area of Garage (sqft)\n",
    "5. Square footage of 2nd floor\n",
    "6. Built year of the house\n",
    "7. No. of Fireplaces\t\n",
    "8. Year remodeled\n",
    "9. Overall quality of the house\n",
    "10. No. of Half baths above basement/ ground floor (for houses without basement)\n",
    "\n",
    "The presence/ increase of the above features increases the Sale Price of a house\n",
    "\n",
    "The top ten important features that are negatively correlated with the Sale Price are:\n",
    "1. Front yard of the house (if more than back yard)\n",
    "2. Area of the lot\n",
    "3. Total rooms above basement/ ground floor (for houses without basement)\n",
    "4. Kitchen above ground floor\n",
    "5. Second basement finished square footage\n",
    "6. Area of 1st floor (sqft)\n",
    "7. Garage capacity (no. of cars it can accommodate)\n",
    "8. Area of Wooden Deck\n",
    "9. Year Sold\t\n",
    "10. Enclosed Porch\t\n",
    "\n",
    "The absence/ decrease of the above features increases the Sale Price of a house."
   ]
  },
  {
   "cell_type": "code",
   "execution_count": null,
   "metadata": {},
   "outputs": [],
   "source": []
  }
 ],
 "metadata": {
  "kernelspec": {
   "display_name": "Python 3",
   "language": "python",
   "name": "python3"
  },
  "language_info": {
   "codemirror_mode": {
    "name": "ipython",
    "version": 3
   },
   "file_extension": ".py",
   "mimetype": "text/x-python",
   "name": "python",
   "nbconvert_exporter": "python",
   "pygments_lexer": "ipython3",
   "version": "3.6.5"
  }
 },
 "nbformat": 4,
 "nbformat_minor": 2
}
